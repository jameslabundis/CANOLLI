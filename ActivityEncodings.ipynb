{
 "cells": [
  {
   "cell_type": "code",
   "execution_count": 1,
   "metadata": {},
   "outputs": [],
   "source": [
    "import pandas as pd\n",
    "import numpy as np\n",
    "import matplotlib.pyplot as plt\n",
    "import matplotlib.cm as cm\n",
    "import seaborn as sb"
   ]
  },
  {
   "cell_type": "code",
   "execution_count": 3,
   "metadata": {
    "scrolled": false
   },
   "outputs": [],
   "source": [
    "# hip = pd.read_csv(\"CompleteData/hip_complete.csv\", index_col = 0)\n",
    "# wrist = pd.read_csv(\"CompleteData/wrist_complete.csv\", index_col = 0)\n",
    "# biocomplete = pd.read_csv(\"CompleteData/bio_complete.csv\", index_col = 0)\n",
    "# thigh = biocomplete.drop([col for col in biocomplete.columns if \"chest\" in col], axis = 1)\n",
    "# chest = biocomplete.drop([col for col in biocomplete.columns if \"thigh\" in col], axis = 1)\n",
    "# thigh_cols = [col[6:] if \"thigh\" in col else col for col in thigh.columns ]\n",
    "# thigh.columns = thigh_cols\n",
    "# chest_cols = [col[6:] if \"chest\" in col else col for col in chest.columns ]\n",
    "# chest.columns = chest_cols"
   ]
  },
  {
   "cell_type": "code",
   "execution_count": 6,
   "metadata": {},
   "outputs": [
    {
     "name": "stderr",
     "output_type": "stream",
     "text": [
      "/anaconda3/lib/python3.7/site-packages/IPython/core/interactiveshell.py:3020: DtypeWarning: Columns (104) have mixed types. Specify dtype option on import or set low_memory=False.\n",
      "  interactivity=interactivity, compiler=compiler, result=result)\n"
     ]
    }
   ],
   "source": [
    "hip = pd.read_csv(\"Final_Data/Hip.csv\")\n",
    "wrist = pd.read_csv(\"Final_Data/Wrist.csv\")\n",
    "thigh = pd.read_csv(\"Final_Data/Thigh.csv\")\n",
    "chest = pd.read_csv(\"Final_Data/Chest.csv\")"
   ]
  },
  {
   "cell_type": "code",
   "execution_count": 8,
   "metadata": {},
   "outputs": [
    {
     "data": {
      "text/plain": [
       "Index(['Unnamed: 0', 'observation', 'date', 'coding', 'primary_behavior',\n",
       "       'primary_posture', 'primary_upperbody', 'primary_intensity',\n",
       "       'secondary_behavior', 'secondary_posture',\n",
       "       ...\n",
       "       'mfft12', 'mfft13', 'mfft14', 'mfft15', 'broad_activity',\n",
       "       'detailed_activity', 'walking_running_bouts', 'updated_activity',\n",
       "       'final_activity', 'updated_final_activity'],\n",
       "      dtype='object', length=108)"
      ]
     },
     "execution_count": 8,
     "metadata": {},
     "output_type": "execute_result"
    }
   ],
   "source": [
    "hip.columns"
   ]
  },
  {
   "cell_type": "code",
   "execution_count": 9,
   "metadata": {},
   "outputs": [
    {
     "data": {
      "text/plain": [
       "Index(['Unnamed: 0', 'observation', 'date', 'coding', 'primary_behavior',\n",
       "       'primary_posture', 'primary_upperbody', 'primary_intensity',\n",
       "       'secondary_behavior', 'secondary_posture',\n",
       "       ...\n",
       "       'mfft12', 'mfft13', 'mfft14', 'mfft15', 'broad_activity',\n",
       "       'detailed_activity', 'walking_running_bouts', 'updated_activity',\n",
       "       'final_activity', 'updated_final_activity'],\n",
       "      dtype='object', length=108)"
      ]
     },
     "execution_count": 9,
     "metadata": {},
     "output_type": "execute_result"
    }
   ],
   "source": [
    "wrist.columns"
   ]
  },
  {
   "cell_type": "code",
   "execution_count": 10,
   "metadata": {},
   "outputs": [
    {
     "data": {
      "text/plain": [
       "Index(['Unnamed: 0', 'observation', 'date', 'coding', 'primary_behavior',\n",
       "       'primary_posture', 'primary_upperbody', 'primary_intensity',\n",
       "       'secondary_behavior', 'secondary_posture',\n",
       "       ...\n",
       "       'mfft12', 'mfft13', 'mfft14', 'mfft15', 'broad_activity',\n",
       "       'detailed_activity', 'walking_running_bouts', 'updated_activity',\n",
       "       'final_activity', 'updated_final_activity'],\n",
       "      dtype='object', length=108)"
      ]
     },
     "execution_count": 10,
     "metadata": {},
     "output_type": "execute_result"
    }
   ],
   "source": [
    "thigh.columns"
   ]
  },
  {
   "cell_type": "code",
   "execution_count": 11,
   "metadata": {},
   "outputs": [
    {
     "data": {
      "text/plain": [
       "Index(['Unnamed: 0', 'observation', 'date', 'coding', 'primary_behavior',\n",
       "       'primary_posture', 'primary_upperbody', 'primary_intensity',\n",
       "       'secondary_behavior', 'secondary_posture',\n",
       "       ...\n",
       "       'mfft12', 'mfft13', 'mfft14', 'mfft15', 'broad_activity',\n",
       "       'detailed_activity', 'walking_running_bouts', 'updated_activity',\n",
       "       'final_activity', 'updated_final_activity'],\n",
       "      dtype='object', length=108)"
      ]
     },
     "execution_count": 11,
     "metadata": {},
     "output_type": "execute_result"
    }
   ],
   "source": [
    "chest.columns"
   ]
  },
  {
   "cell_type": "markdown",
   "metadata": {},
   "source": [
    "# Broad Activity Encoding"
   ]
  },
  {
   "cell_type": "markdown",
   "metadata": {},
   "source": [
    "Description: creates a new column in the dataset called \"broad_activity\" with the broad activity encodings"
   ]
  },
  {
   "cell_type": "markdown",
   "metadata": {},
   "source": [
    "data - dataset (hip, wrist, thigh, or chest)"
   ]
  },
  {
   "cell_type": "code",
   "execution_count": 12,
   "metadata": {},
   "outputs": [],
   "source": [
    "def get_broad_activity_type(data):\n",
    "    broad = []\n",
    "    for i in range(data.shape[0]):\n",
    "        row = data.iloc[i,:]\n",
    "        if row[\"primary_posture\"] == \"private/not coded\":\n",
    "            broad.append(\"private/not coded\")\n",
    "        elif row[\"coding\"] == \"sedentary\":\n",
    "            if row[\"primary_behavior\"] in [\"TRAV- driver (car/truck/motorcycle)\", \"TRAV- passenger bus or train\"]:\n",
    "                broad.append(\"vehicle\")\n",
    "            else:\n",
    "                broad.append(\"sit/stand\")\n",
    "        else:\n",
    "            if row[\"primary_posture\"] in [\"WA- ascend stairs\", \"WA- descend stairs\",\n",
    "                                   \"WA- running\", \"WA- walk\", \"WA-walk with load\"]:\n",
    "                broad.append(\"walking\")\n",
    "            elif row[\"primary_posture\"] == \"LA- stand\":\n",
    "                broad.append(\"sit/stand\")\n",
    "            elif row[\"primary_posture\"] in [\"LA- stand\", \"LA- stand and move\",\n",
    "                                            \"LA- stand and move with unidentifiable upper body movement\",\n",
    "                                            \"LA- stand and move with upper body movement\",\n",
    "                                            \"SP- other sport movement\"]:\n",
    "                broad.append(\"mixed-activity\")\n",
    "            elif row[\"primary_posture\"] == \"SP- bike\":\n",
    "                broad.append(\"bicycling\")\n",
    "            else:\n",
    "                print(\"BAD\")\n",
    "    data[\"broad_activity\"] = broad\n",
    "    return data"
   ]
  },
  {
   "cell_type": "markdown",
   "metadata": {},
   "source": [
    "# Detailed Actvity Encoding"
   ]
  },
  {
   "cell_type": "markdown",
   "metadata": {},
   "source": [
    "Description: creates a new column in the dataset called “detailed_activity” (does not correspond to detailed activity in our final paper) with the detailed activity encodings."
   ]
  },
  {
   "cell_type": "markdown",
   "metadata": {},
   "source": [
    "data - dataset (hip, wrist, thigh, or chest)"
   ]
  },
  {
   "cell_type": "code",
   "execution_count": 13,
   "metadata": {},
   "outputs": [],
   "source": [
    "def get_detailed_activity_type(data):\n",
    "    detail = []\n",
    "    for i in range(data.shape[0]):\n",
    "        row = data.iloc[i,:]\n",
    "        if row[\"primary_posture\"] == \"private/not coded\":\n",
    "            detail.append(\"private/not coded\")\n",
    "        elif row[\"coding\"] == \"sedentary\":\n",
    "            if row[\"primary_behavior\"] in [\"TRAV- driver (car/truck/motorcycle)\", \"TRAV- passenger bus or train\"]:\n",
    "                detail.append(\"vehicle\")\n",
    "            else:\n",
    "                detail.append(\"sit/lie\")\n",
    "        else:\n",
    "            if row[\"primary_posture\"] in [\"WA- ascend stairs\", \"WA- descend stairs\",\n",
    "                                   \"WA- walk\", \"WA-walk with load\"]:\n",
    "                if row[\"primary_intensity\"] == \"light\":\n",
    "                    detail.append(\"walking light\")\n",
    "                elif row[\"primary_intensity\"] in [\"moderate\", \"vigorous\"]:\n",
    "                    detail.append(\"walking moderate or vigorous\")\n",
    "            elif row[\"primary_posture\"] == \"WA- running\":\n",
    "                detail.append(\"running\")\n",
    "            elif row[\"primary_posture\"] == \"LA- stand\":\n",
    "                detail.append(\"stand still\")\n",
    "            elif row[\"primary_posture\"] in [\"LA- stand and move\",\n",
    "                                            \"LA- stand and move with unidentifiable upper body movement\",\n",
    "                                            \"LA- stand and move with upper body movement\",\n",
    "                                            \"SP- other sport movement\"]:\n",
    "                if row[\"primary_behavior\"] in ['HA- animals and pets',\n",
    "                                                'HA- exterior maintenance, repair, & decoration',\n",
    "                                                'HA- food prep and cleanup',\n",
    "                                                'HA- household management/other household activities',\n",
    "                                                'HA- housework', 'HA- interior maintenance, repair, & decoration',\n",
    "                                                'HA- lawn, garden and houseplants']:\n",
    "                    detail.append(\"housework\")\n",
    "                elif row[\"primary_behavior\"] == \"EX- jogging\":\n",
    "                    if row[\"primary_intensity\"] == \"light\":\n",
    "                        detail.append(\"walking light\")\n",
    "                    elif row[\"primary_intensity\"] in [\"moderate\", \"vigorous\"]:\n",
    "                        detail.append(\"walking moderate or vigorous\")\n",
    "                elif row[\"primary_behavior\"] == \"EX- walking\" and row[\"primary_posture\"] not in [\"LA- stand and move\",\n",
    "                                                                                                \"LA- stand and move with unidentifiable upper body movement\",\n",
    "                                                                                                \"LA- stand and move with upper body movement\"]:\n",
    "                    if row[\"primary_intensity\"] == \"light\":\n",
    "                        detail.append(\"walking light\")\n",
    "                    elif row[\"primary_intensity\"] in [\"moderate\", \"vigorous\"]:\n",
    "                        detail.append(\"walking moderate or vigorous\")\n",
    "                elif row[\"primary_intensity\"] == \"light\":\n",
    "                    detail.append(\"stand and move light\")\n",
    "                elif row[\"primary_intensity\"] in [\"moderate\", \"vigorous\"]:\n",
    "                    detail.append(\"stand and move moderate or vigorous\")\n",
    "            elif row[\"primary_posture\"] == \"SP- bike\":\n",
    "                detail.append(\"bicycling\")\n",
    "    data[\"detailed_activity\"] = detail\n",
    "    return data"
   ]
  },
  {
   "cell_type": "markdown",
   "metadata": {},
   "source": [
    "# Walking or Running Bouts"
   ]
  },
  {
   "cell_type": "markdown",
   "metadata": {},
   "source": [
    "Description: creates a new column in the dataset called “walking_or_running_bouts” (used to create the next activity encoding) with the walking or running bouts. \n",
    "The column has the following values:\n",
    "\n",
    "“<1 min walking”\n",
    "\n",
    "“>=1min & <5min walking”\n",
    "\n",
    "“>=5min & <10min walking”\n",
    "\n",
    "“>=10min walking”\n",
    "\n",
    "“<1 min running”\n",
    "\n",
    "“>=1min & <5min running”\n",
    "\n",
    "“>=5min & <10min running”\n",
    "\n",
    "“>=10min running”\n",
    "\n",
    "“” - empty if no walking or running bout was detected"
   ]
  },
  {
   "cell_type": "markdown",
   "metadata": {},
   "source": [
    "data - dataset (hip, wrist, thigh, or chest)"
   ]
  },
  {
   "cell_type": "code",
   "execution_count": 14,
   "metadata": {},
   "outputs": [],
   "source": [
    "def get_walking_or_running_bouts(data):\n",
    "    previous_person = data.iloc[0,:][\"type\"]\n",
    "    previous = \"\"\n",
    "    count = 0\n",
    "    start = -1\n",
    "    data[\"walking_running_bouts\"] = \"\"\n",
    "    bouts_col_index = data.shape[1]-1\n",
    "    for i in range(data.shape[0]):\n",
    "        row = data.iloc[i,:]\n",
    "        activity = row[\"detailed_activity\"].split(\" \")[0]\n",
    "        if activity in [\"walking\", \"running\"]:\n",
    "            if previous == activity and previous_person == row[\"type\"]:\n",
    "                previous = activity\n",
    "                count += 1\n",
    "            elif previous == \"\":\n",
    "                previous = activity\n",
    "                count += 1\n",
    "                start = i\n",
    "            else:\n",
    "                mins = count/60.0\n",
    "                if mins < 1.0:\n",
    "                    label = \"<1 min \" + previous\n",
    "                elif mins < 5.0:\n",
    "                    label = \">=1min & <5min \" + previous\n",
    "                elif mins < 10.0:\n",
    "                    label = \">=5min & <10min \" + previous\n",
    "                else:\n",
    "                    label = \">=10min \" + previous\n",
    "                for j in range(start, i):\n",
    "                    data.iat[j, bouts_col_index] = label\n",
    "                count = 1\n",
    "                previous = activity\n",
    "                start = i\n",
    "        elif count > 0:\n",
    "            mins = count/60.0\n",
    "            if mins < 1.0:\n",
    "                label = \"<1 min \" + previous\n",
    "            elif mins < 5.0:\n",
    "                label = \">=1min & <5min \" + previous\n",
    "            elif mins < 10.0:\n",
    "                label = \">=5min & <10min \" + previous\n",
    "            else:\n",
    "                label = \">=10min \" + previous\n",
    "            for j in range(start, i):\n",
    "                data.iat[j, bouts_col_index] = label\n",
    "            count = 0\n",
    "            previous = \"\" \n",
    "            start = -1\n",
    "        previous_person = row[\"type\"]\n",
    "    return data"
   ]
  },
  {
   "cell_type": "markdown",
   "metadata": {},
   "source": [
    "# Updated Encodings Column"
   ]
  },
  {
   "cell_type": "markdown",
   "metadata": {},
   "source": [
    "Description: creates a new column in the dataset called “updated_activity” (corresponds to detailed activity in our final paper) with the updated activity encodings."
   ]
  },
  {
   "cell_type": "markdown",
   "metadata": {},
   "source": [
    "data - dataset (hip, wrist, thigh, or chest)"
   ]
  },
  {
   "cell_type": "code",
   "execution_count": 15,
   "metadata": {},
   "outputs": [],
   "source": [
    "def get_new_encodings(data):\n",
    "    activity_encoding = []\n",
    "    for i in range(data.shape[0]):\n",
    "        row = data.iloc[i,:]\n",
    "        walking_bouts = row[\"walking_running_bouts\"]\n",
    "        run_or_walk = walking_bouts.split(\" \")\n",
    "        run_or_walk = run_or_walk[len(run_or_walk)-1]\n",
    "        if walking_bouts == \"\":\n",
    "            if row[\"broad_activity\"] == \"sit/stand\":\n",
    "                if row[\"detailed_activity\"] == \"sit/lie\":\n",
    "                    activity_encoding.append(\"sit/lie\")\n",
    "                else:\n",
    "                    activity_encoding.append(\"stand still\")\n",
    "            else:\n",
    "                activity_encoding.append(row[\"broad_activity\"])\n",
    "        elif run_or_walk == \"running\":\n",
    "            activity_encoding.append(\"running\")\n",
    "        else:\n",
    "            if walking_bouts == \"<1 min walking\":\n",
    "                activity_encoding.append(\"mixed-activity\")\n",
    "            else:\n",
    "                activity_encoding.append(\"walking\")\n",
    "    data[\"updated_activity\"] = activity_encoding\n",
    "    return data"
   ]
  },
  {
   "cell_type": "markdown",
   "metadata": {},
   "source": [
    "# Final Activity Encoding Columns"
   ]
  },
  {
   "cell_type": "markdown",
   "metadata": {},
   "source": [
    "Description: creates a new column in the dataset called “final_activity” (corresponds to detailed activity in our final paper) with the final activity encodings."
   ]
  },
  {
   "cell_type": "markdown",
   "metadata": {},
   "source": [
    "data - dataset (hip, wrist, thigh, or chest)"
   ]
  },
  {
   "cell_type": "code",
   "execution_count": 16,
   "metadata": {},
   "outputs": [],
   "source": [
    "def get_final_encodings(data):\n",
    "    activity_encoding = []\n",
    "    for i in range(data.shape[0]):\n",
    "        row = data.iloc[i,:]\n",
    "        activity = row[\"updated_activity\"]\n",
    "        intensity = row[\"primary_intensity\"]\n",
    "        if activity not in [\"mixed-activity\", \"stand still\"]:\n",
    "            activity_encoding.append(activity)\n",
    "        elif intensity == 'light':\n",
    "            activity_encoding.append(\"stand and move light\")\n",
    "        else:\n",
    "            activity_encoding.append(\"stand and move moderate or vigorous\")\n",
    "    data[\"final_activity\"] = activity_encoding\n",
    "    return data"
   ]
  },
  {
   "cell_type": "markdown",
   "metadata": {},
   "source": [
    "# Updated Final Activity Encoding"
   ]
  },
  {
   "cell_type": "markdown",
   "metadata": {},
   "source": [
    "Description: creates a new column in the dataset called “updated_final_activity” (corresponds to final activity in our final paper) with the updated final activity encodings."
   ]
  },
  {
   "cell_type": "markdown",
   "metadata": {},
   "source": [
    "data - dataset (hip, wrist, thigh, or chest)"
   ]
  },
  {
   "cell_type": "code",
   "execution_count": 17,
   "metadata": {},
   "outputs": [],
   "source": [
    "def get_updated_final_encodings(data):\n",
    "    activity_encoding = []\n",
    "    for i in range(data.shape[0]):\n",
    "        row = data.iloc[i,:]\n",
    "        activity = row[\"final_activity\"]\n",
    "        if activity in [\"stand and move light\", \"stand and move moderate or vigorous\"]:\n",
    "            activity_encoding.append(\"stand and move\")\n",
    "        elif activity in [\"sit/lie\", \"vehicle\"]:\n",
    "            activity_encoding.append(\"sit/lie\")\n",
    "        else:\n",
    "            activity_encoding.append(activity)\n",
    "        \n",
    "    data[\"updated_final_activity\"] = activity_encoding\n",
    "    return data"
   ]
  },
  {
   "cell_type": "markdown",
   "metadata": {},
   "source": [
    "### Hip"
   ]
  },
  {
   "cell_type": "code",
   "execution_count": 15,
   "metadata": {},
   "outputs": [],
   "source": [
    "# hip = get_broad_activity_type(hip)"
   ]
  },
  {
   "cell_type": "code",
   "execution_count": 16,
   "metadata": {},
   "outputs": [],
   "source": [
    "# hip = get_detailed_activity_type(hip)"
   ]
  },
  {
   "cell_type": "code",
   "execution_count": 17,
   "metadata": {},
   "outputs": [],
   "source": [
    "# hip = get_walking_or_running_bouts(hip)"
   ]
  },
  {
   "cell_type": "code",
   "execution_count": 18,
   "metadata": {},
   "outputs": [],
   "source": [
    "# hip = get_new_encodings(hip)"
   ]
  },
  {
   "cell_type": "code",
   "execution_count": 19,
   "metadata": {},
   "outputs": [],
   "source": [
    "# hip.to_csv(\"Hip.csv\",index=False)"
   ]
  },
  {
   "cell_type": "code",
   "execution_count": 20,
   "metadata": {},
   "outputs": [],
   "source": [
    "# hip = get_final_encodings(hip)"
   ]
  },
  {
   "cell_type": "code",
   "execution_count": 21,
   "metadata": {},
   "outputs": [],
   "source": [
    "# hip = get_updated_final_encodings(hip)"
   ]
  },
  {
   "cell_type": "code",
   "execution_count": 18,
   "metadata": {},
   "outputs": [],
   "source": [
    "# hip.groupby(['updated_final_activity','final_activity', 'updated_activity', 'primary_intensity']).count()"
   ]
  },
  {
   "cell_type": "code",
   "execution_count": 19,
   "metadata": {},
   "outputs": [],
   "source": [
    "# hip.groupby(['updated_final_activity']).count()"
   ]
  },
  {
   "cell_type": "code",
   "execution_count": 20,
   "metadata": {},
   "outputs": [],
   "source": [
    "# hip.to_csv(\"Final_Data/Hip.csv\", index = False)"
   ]
  },
  {
   "cell_type": "markdown",
   "metadata": {},
   "source": [
    "### Wrist"
   ]
  },
  {
   "cell_type": "code",
   "execution_count": 21,
   "metadata": {},
   "outputs": [],
   "source": [
    "# wrist = get_broad_activity_type(wrist)"
   ]
  },
  {
   "cell_type": "code",
   "execution_count": 22,
   "metadata": {},
   "outputs": [],
   "source": [
    "# wrist = get_detailed_activity_type(wrist)"
   ]
  },
  {
   "cell_type": "code",
   "execution_count": 23,
   "metadata": {},
   "outputs": [],
   "source": [
    "# wrist = get_walking_or_running_bouts(wrist)"
   ]
  },
  {
   "cell_type": "code",
   "execution_count": 24,
   "metadata": {},
   "outputs": [],
   "source": [
    "# wrist = get_new_encodings(wrist)"
   ]
  },
  {
   "cell_type": "code",
   "execution_count": 25,
   "metadata": {},
   "outputs": [],
   "source": [
    "# wrist.to_csv(\"Wrist.csv\",index=False)"
   ]
  },
  {
   "cell_type": "code",
   "execution_count": 26,
   "metadata": {},
   "outputs": [],
   "source": [
    "# wrist = get_final_encodings(wrist)"
   ]
  },
  {
   "cell_type": "code",
   "execution_count": 27,
   "metadata": {},
   "outputs": [],
   "source": [
    "# wrist = get_updated_final_encodings(wrist)"
   ]
  },
  {
   "cell_type": "code",
   "execution_count": 28,
   "metadata": {},
   "outputs": [],
   "source": [
    "# wrist.groupby(['updated_final_activity','final_activity', 'updated_activity', 'primary_intensity']).count()"
   ]
  },
  {
   "cell_type": "code",
   "execution_count": 29,
   "metadata": {},
   "outputs": [],
   "source": [
    "# wrist.to_csv(\"Final_Data/Wrist.csv\", index = False)"
   ]
  },
  {
   "cell_type": "markdown",
   "metadata": {},
   "source": [
    "### Thigh"
   ]
  },
  {
   "cell_type": "code",
   "execution_count": 30,
   "metadata": {},
   "outputs": [],
   "source": [
    "# thigh = get_broad_activity_type(thigh)"
   ]
  },
  {
   "cell_type": "code",
   "execution_count": 31,
   "metadata": {},
   "outputs": [],
   "source": [
    "# thigh = get_detailed_activity_type(thigh)"
   ]
  },
  {
   "cell_type": "code",
   "execution_count": 32,
   "metadata": {},
   "outputs": [],
   "source": [
    "# thigh = get_walking_or_running_bouts(thigh)"
   ]
  },
  {
   "cell_type": "code",
   "execution_count": 33,
   "metadata": {},
   "outputs": [],
   "source": [
    "# thigh = get_new_encodings(thigh)"
   ]
  },
  {
   "cell_type": "code",
   "execution_count": 34,
   "metadata": {},
   "outputs": [],
   "source": [
    "# thigh.to_csv(\"Thigh.csv\",index=False)"
   ]
  },
  {
   "cell_type": "code",
   "execution_count": 35,
   "metadata": {},
   "outputs": [],
   "source": [
    "# thigh = get_final_encodings(thigh)"
   ]
  },
  {
   "cell_type": "code",
   "execution_count": 36,
   "metadata": {},
   "outputs": [],
   "source": [
    "# thigh = get_updated_final_encodings(thigh)"
   ]
  },
  {
   "cell_type": "code",
   "execution_count": 37,
   "metadata": {},
   "outputs": [],
   "source": [
    "# thigh.groupby(['updated_final_activity','final_activity', 'updated_activity', 'primary_intensity']).count()"
   ]
  },
  {
   "cell_type": "code",
   "execution_count": 38,
   "metadata": {},
   "outputs": [],
   "source": [
    "# thigh.to_csv(\"Final_Data/Thigh.csv\", index = False)"
   ]
  },
  {
   "cell_type": "markdown",
   "metadata": {},
   "source": [
    "### Chest"
   ]
  },
  {
   "cell_type": "code",
   "execution_count": 39,
   "metadata": {},
   "outputs": [],
   "source": [
    "# chest = get_broad_activity_type(chest)"
   ]
  },
  {
   "cell_type": "code",
   "execution_count": 40,
   "metadata": {},
   "outputs": [],
   "source": [
    "# chest = get_detailed_activity_type(chest)"
   ]
  },
  {
   "cell_type": "code",
   "execution_count": 41,
   "metadata": {},
   "outputs": [],
   "source": [
    "# chest = get_walking_or_running_bouts(chest)"
   ]
  },
  {
   "cell_type": "code",
   "execution_count": 42,
   "metadata": {},
   "outputs": [],
   "source": [
    "# chest = get_new_encodings(chest)"
   ]
  },
  {
   "cell_type": "code",
   "execution_count": 43,
   "metadata": {},
   "outputs": [],
   "source": [
    "# chest.to_csv(\"Chest.csv\",index=False)"
   ]
  },
  {
   "cell_type": "code",
   "execution_count": 44,
   "metadata": {},
   "outputs": [],
   "source": [
    "# chest = get_final_encodings(chest)"
   ]
  },
  {
   "cell_type": "code",
   "execution_count": 45,
   "metadata": {},
   "outputs": [],
   "source": [
    "# chest = get_updated_final_encodings(chest)"
   ]
  },
  {
   "cell_type": "code",
   "execution_count": 46,
   "metadata": {},
   "outputs": [],
   "source": [
    "# chest.groupby(['updated_final_activity','final_activity', 'updated_activity', 'primary_intensity']).count()"
   ]
  },
  {
   "cell_type": "code",
   "execution_count": 47,
   "metadata": {},
   "outputs": [],
   "source": [
    "# chest.to_csv(\"Final_Data/Chest.csv\", index = False)"
   ]
  }
 ],
 "metadata": {
  "kernelspec": {
   "display_name": "Python 3",
   "language": "python",
   "name": "python3"
  },
  "language_info": {
   "codemirror_mode": {
    "name": "ipython",
    "version": 3
   },
   "file_extension": ".py",
   "mimetype": "text/x-python",
   "name": "python",
   "nbconvert_exporter": "python",
   "pygments_lexer": "ipython3",
   "version": "3.7.1"
  }
 },
 "nbformat": 4,
 "nbformat_minor": 2
}
