{
 "cells": [
  {
   "cell_type": "markdown",
   "metadata": {},
   "source": [
    "The ordering of the confusion matrix must be: \"Sit/Lie\", \"Vehicle\", \"Stand and Move Light\", \n",
    "                                              \"Stand and Move Moderate or Vigorous\", \"Walking\",\"Running\", \"Bicycling\"\n",
    "                     \n",
    "With Actual on the Rows and Predicted on the Columns"
   ]
  },
  {
   "cell_type": "markdown",
   "metadata": {},
   "source": [
    "This takes in a folder of confusion matrices that are space delimited “ “ in text files. The titling of the latex tables relies heavily on the name of the confusion matrix text file. Since we had Single Sensor and Two Sensor Results, we had two folders for confusion matrices:\n",
    "\n",
    "SingleSensorResults\n",
    "\n",
    "TwoSensorResults\n",
    "\n",
    "\n",
    "\n",
    "\n",
    "Within each of those folders there are various folders corresponding to the activity encoding being classified:\n",
    "\n",
    "BroadActivity\n",
    "\n",
    "DetailedActivity\n",
    "\n",
    "FinalActivity\n",
    "\n",
    "UpdatedFinalActivity\n",
    "\n",
    "\n",
    "\n",
    "\n",
    "Again within each of these folders I created one more folder to dump all the Latex Tables into called:\n",
    "\n",
    "LatexTables\n",
    "\n",
    "\n",
    "\n",
    "\n",
    "An example path for the text files of the confusion matrices to be converted to latex tables: \n",
    "\n",
    "SingleSensorResults/FinalActivity/chest_final_activity_cnf_mat.txt\n",
    "\n",
    "\n",
    "The notebook uses the “SingleSensorResults” folder to title that these are Single Sensor Results, and uses the “chest_” at the beginning of the title of the confusion matrix file to title that these are Chest Results.\n",
    "\n",
    "The title for the above would look like: Single Sensor: Chest Final Activity\n",
    "\n",
    "Another example path is:\n",
    "\n",
    "TwoSensorResults/FinalActivity/chest+wrist_final_activity_cnf_mat.txt\n",
    "The “+” is used to split the Chest and Wrist for the title. \n",
    "\n",
    "The corresponding title for this example would be: Two Sensor: Chest & Wrist Final Activity"
   ]
  },
  {
   "cell_type": "markdown",
   "metadata": {},
   "source": [
    "## Change the path below to indicate which folder of confusion matrices you would like to convert to latex tables"
   ]
  },
  {
   "cell_type": "code",
   "execution_count": 3,
   "metadata": {},
   "outputs": [],
   "source": [
    "sensor_folder = \"SingleSensorResults/FinalActivity\""
   ]
  },
  {
   "cell_type": "code",
   "execution_count": 4,
   "metadata": {},
   "outputs": [],
   "source": [
    "from os import listdir\n",
    "from os.path import isfile, join\n",
    "files = [f for f in listdir(sensor_folder) if isfile(join(sensor_folder, f))]\n",
    "files = [f for f in files if f.split(\".\")[-1] == \"txt\" ]"
   ]
  },
  {
   "cell_type": "code",
   "execution_count": 5,
   "metadata": {},
   "outputs": [],
   "source": [
    "import numpy as np"
   ]
  },
  {
   "cell_type": "code",
   "execution_count": 6,
   "metadata": {},
   "outputs": [],
   "source": [
    "broad_activities = [\"Sit/Lie\", \"Vehicle\", \"Stand and Move Light\", \"Stand and Move Moderate or Vigorous\", \"Walking\",\n",
    "                   \"Running\", \"Bicycling\"]"
   ]
  },
  {
   "cell_type": "code",
   "execution_count": 11,
   "metadata": {},
   "outputs": [],
   "source": [
    "def convert_to_latex(read, sensor_folder):\n",
    "    two_or_single_sensor = \"Single\"\n",
    "    sensor = \"thigh\"\n",
    "#     sensor = read.split(\"_\")[0].capitalize()\n",
    "#     two_or_single_sensor = sensor_folder.replace(\"SensorResults/FinalActivity\", \"\")\n",
    "#     if two_or_single_sensor == \"Single\":\n",
    "#         sensor = read.split(\"_\")[0].capitalize()\n",
    "#     else:\n",
    "#         sensors = read.split(\"_\")[0].split(\"+\")\n",
    "#         sensor = sensors[0].capitalize() + \" \\\\& \" + sensors[1].capitalize()\n",
    "    read_file = open(sensor_folder+ \"/\"+ read,'r')\n",
    "    write = sensor_folder + \"/LatexTables/latex_\" + read\n",
    "    mat=[]\n",
    "    for line in read_file.readlines():\n",
    "        mat.append([ int(round(float(x),0)) for x in line.replace(\"\\n\",\"\").split(' ') ])\n",
    "    mat = np.matrix(mat)\n",
    "    precision = []\n",
    "    recall = []\n",
    "    for i in range(len(broad_activities)):\n",
    "        val = float(mat[i,i])\n",
    "        denom_p = np.sum(mat[:,i])\n",
    "        denom_r = np.sum(mat[i,:])\n",
    "        if denom_p != 0:\n",
    "            p = val/denom_p\n",
    "        else:\n",
    "            p = 0.0\n",
    "        if denom_r != 0:\n",
    "            r = val/denom_r\n",
    "        else:\n",
    "            r = 0.0\n",
    "        precision.append(round(p,3))\n",
    "        recall.append(round(r,3))\n",
    "    \n",
    "    v1 = mat[0,0]\n",
    "    v2 = mat[0,1]\n",
    "    v3 = mat[0,2]\n",
    "    v4 = mat[0,3]\n",
    "    v5 = mat[0,4]\n",
    "    v6 = mat[0,5]\n",
    "    v7 = mat[0,6]\n",
    "    v8 = recall[0]\n",
    "    v9 = mat[1,0]\n",
    "    v10 = mat[1,1]\n",
    "    v11 = mat[1,2]\n",
    "    v12 = mat[1,3]\n",
    "    v13 = mat[1,4]\n",
    "    v14 = mat[1,5]\n",
    "    v15 = mat[1,6]\n",
    "    v16 = recall[1]\n",
    "    v17 = mat[2,0]\n",
    "    v18 = mat[2,1]\n",
    "    v19 = mat[2,2]\n",
    "    v20 = mat[2,3]\n",
    "    v21 = mat[2,4]\n",
    "    v22 = mat[2,5]\n",
    "    v23 = mat[2,6]\n",
    "    v24 = recall[2]\n",
    "    v25 = mat[3,0]\n",
    "    v26 = mat[3,1]\n",
    "    v27 = mat[3,2]\n",
    "    v28 = mat[3,3]\n",
    "    v29 = mat[3,4]\n",
    "    v30 = mat[3,5]\n",
    "    v31 = mat[3,6]\n",
    "    v32 = recall[3]\n",
    "    v33 = mat[4,0]\n",
    "    v34 = mat[4,1]\n",
    "    v35 = mat[4,2]\n",
    "    v36 = mat[4,3]\n",
    "    v37 = mat[4,4]\n",
    "    v38 = mat[4,5]\n",
    "    v39 = mat[4,6]\n",
    "    v40 = recall[4]\n",
    "    v41 = mat[5,0]\n",
    "    v42 = mat[5,1]\n",
    "    v43 = mat[5,2]\n",
    "    v44 = mat[5,3]\n",
    "    v45 = mat[5,4]\n",
    "    v46 = mat[5,5]\n",
    "    v47 = mat[5,6]\n",
    "    v48 = recall[5]\n",
    "    v49 = mat[6,0]\n",
    "    v50 = mat[6,1]\n",
    "    v51 = mat[6,2]\n",
    "    v52 = mat[6,3]\n",
    "    v53 = mat[6,4]\n",
    "    v54 = mat[6,5]\n",
    "    v55 = mat[6,6]\n",
    "    v56 = recall[6]\n",
    "    v57 = precision[0]\n",
    "    v58 = precision[1]\n",
    "    v59 = precision[2]\n",
    "    v60 = precision[3]\n",
    "    v61 = precision[4]\n",
    "    v62 = precision[5]\n",
    "    v63 = precision[6]\n",
    "    v64 = round(float(np.sum(mat.diagonal()))/mat.sum(),3)\n",
    "\n",
    "    cool_string = \"\"\"\\\\begin{table}[]\n",
    "    \\\\caption {%s Sensor: %s Final Activity} \\label{tab:title}\n",
    "    \\\\begin{tabular}{ll|c|c|c|c|c|c|c||c|}\n",
    "           & \\\\multicolumn{7}{c}{\\\\bf Predicted}                                                                                                                                                                                     \\\\\\\\ \\\\cline{3-10}\n",
    "           &                & \\\\multicolumn{1}{l|}{Sit/Lie} & \\\\multicolumn{1}{l|}{Vehicle} & \\\\multicolumn{1}{l|}{\\\\begin{tabular}[c]{@{}c@{}}Stand \\\\&\\\\\\\\Move\\\\\\\\Light\\\\end{tabular}} & \\\\multicolumn{1}{l|}{\\\\begin{tabular}[c]{@{}c@{}}Stand \\\\&\\\\\\\\Move\\\\\\\\Moderate\\\\\\\\or\\\\\\\\Vigorous\\\\end{tabular}} & \\\\multicolumn{1}{l|}{Walking} & \\\\multicolumn{1}{l|}{\\\\begin{tabular}[c]{@{}c@{}}Run-\\\\\\\\ning\\\\end{tabular}} & \\\\multicolumn{1}{l||}{\\\\begin{tabular}[c]{@{}c@{}}Bicy-\\\\\\\\cling\\\\end{tabular}} & \\\\multicolumn{1}{l|}{\\\\bf Recall} \\\\\\\\ \\\\cline{2-10} \n",
    "           & \\\\multicolumn{1}{|r|}{Sit/Lie}      & \\\\cellcolor[gray]{.8}{%s}                     & %s                                   & %s                              & %s                            & %s                            & %s                            & %s                            & {\\\\bf %s}                     \\\\\\\\ \\\\cline{2-10} \n",
    "           & \\\\multicolumn{1}{|r|}{Vehicle} & %s                              & \\\\cellcolor[gray]{.8}{%s}                          & %s                              & %s                           & %s                           & %s                    & %s                            & {\\\\bf %s}  \\\\\\\\ \\\\cline{2-10} \n",
    "    {\\\\bf Actual} & \\\\multicolumn{1}{|r|}{\\\\begin{tabular}[c]{@{}c@{}}Stand \\\\&\\\\\\\\Move\\\\\\\\Light\\\\end{tabular}}      & %s                             & %s                                  & \\\\cellcolor[gray]{.8}{%s}                    & %s                           & %s                           & %s                            & %s                            & {\\\\bf %s}                     \\\\\\\\ \\\\cline{2-10} \n",
    "           & \\\\multicolumn{1}{|r|}{\\\\begin{tabular}[c]{@{}c@{}}Stand \\\\&\\\\\\\\Move\\\\\\\\Moderate\\\\\\\\or\\\\\\\\Vigorous\\\\end{tabular}}        & %s                             & %s                                  & %s                             & \\\\cellcolor[gray]{.8}{%s}                  & %s                           & %s                            & %s                            & {\\\\bf %s}                   \\\\\\\\ \\\\cline{2-10}\n",
    "           & \\\\multicolumn{1}{|r|}{Walking}        & %s                             & %s                                  & %s                                         & %s             & \\\\cellcolor[gray]{.8}{%s}                    & %s                            & %s                            & {\\\\bf %s}                   \\\\\\\\ \\\\cline{2-10}\n",
    "           & \\\\multicolumn{1}{|r|}{Running}        & %s                             & %s                                  & %s                                         & %s                             & %s                    & \\\\cellcolor[gray]{.8}{%s}           & %s                            & {\\\\bf %s}                   \\\\\\\\ \\\\cline{2-10}\n",
    "           & \\\\multicolumn{1}{|r|}{Bicycling}        & %s                             & %s                                  & %s                             & %s                                       & %s                             & %s                           & \\\\cellcolor[gray]{.8}{%s}                    & {\\\\bf %s}                       \\\\\\\\ \\\\hhline{~=========}\n",
    "           & \\\\multicolumn{1}{|r|}{\\\\bf Precision}      & {\\\\bf %s}                             & {\\\\bf %s}                                  & {\\\\bf %s}                             & {\\\\bf %s}                           & {\\\\bf %s}                           & {\\\\bf %s}                      & {\\\\bf %s}                       & \\\\cellcolor[gray]{.8}{\\\\bf %s}                 \\\\\\\\ \\\\cline{2-10} \n",
    "    \\\\end{tabular}\n",
    "    \\\\end{table}\n",
    "    \"\"\" % (two_or_single_sensor,sensor, v1, v2, v3, v4, v5, v6, v7, v8, v9, v10, v11, v12, v13, v14, v15, v16, v17, v18, v19, v20,\n",
    "           v21, v22, v23, v24, v25, v26, v27, v28, v29, v30, v31, v32, v33, v34, v35, v36, v37, v38,v39, v40, v41, v42, v43, v44,\n",
    "           v45, v46, v47, v48, v49, v50, v51, v52, v53, v54, v55, v56,v57, v58, v59, v60, v61, v62, v63,v64)\n",
    "    file = open(write,\"w\")\n",
    "    file.write(cool_string)\n",
    "    file.close()\n",
    "    "
   ]
  },
  {
   "cell_type": "code",
   "execution_count": 12,
   "metadata": {},
   "outputs": [],
   "source": [
    "def convert_folder(sensor_folder):\n",
    "    files = [f for f in listdir(sensor_folder) if isfile(join(sensor_folder, f))]\n",
    "    files = [f for f in files if f.split(\".\")[-1] == \"txt\" ]\n",
    "    for file in files:\n",
    "        convert_to_latex(file, sensor_folder)"
   ]
  },
  {
   "cell_type": "code",
   "execution_count": 13,
   "metadata": {},
   "outputs": [],
   "source": [
    "sensor_folder = \"CurrResults\""
   ]
  },
  {
   "cell_type": "code",
   "execution_count": 15,
   "metadata": {},
   "outputs": [],
   "source": [
    "convert_folder(sensor_folder)"
   ]
  },
  {
   "cell_type": "code",
   "execution_count": null,
   "metadata": {},
   "outputs": [],
   "source": []
  }
 ],
 "metadata": {
  "kernelspec": {
   "display_name": "Python 3",
   "language": "python",
   "name": "python3"
  },
  "language_info": {
   "codemirror_mode": {
    "name": "ipython",
    "version": 3
   },
   "file_extension": ".py",
   "mimetype": "text/x-python",
   "name": "python",
   "nbconvert_exporter": "python",
   "pygments_lexer": "ipython3",
   "version": "3.7.1"
  }
 },
 "nbformat": 4,
 "nbformat_minor": 2
}
