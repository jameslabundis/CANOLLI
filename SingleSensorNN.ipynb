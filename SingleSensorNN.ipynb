{
 "cells": [
  {
   "cell_type": "code",
   "execution_count": 9,
   "id": "8146ce8f",
   "metadata": {},
   "outputs": [],
   "source": [
    "# Library dependencies\n",
    "import pandas as pd\n",
    "import numpy as np\n",
    "import tensorflow as tf\n",
    "import itertools\n",
    "from tensorflow.keras import layers\n",
    "import matplotlib.pyplot as plt\n",
    "# import keras\n",
    "import math\n",
    "from sklearn.model_selection import KFold\n",
    "import sklearn.metrics\n",
    "#from ann_visualizer.visualize import ann_viz\n",
    "#import graphviz\n",
    "from sklearn.model_selection import train_test_split\n",
    "# Number of epochs for neural network training\n",
    "NUM_EPOCHS = 30\n",
    "# Sensors for training\n",
    "sensors = ['hip', 'wrist', 'chest', 'thigh']\n",
    "\n",
    "def clean_data(sensor, activity):\n",
    "    data = pd.read_csv(sensor + \".csv\", low_memory = False)\n",
    "    # Take out unnamed columns\n",
    "    data.drop([col for col in data.columns if \"Unnamed\" in col], axis=1, inplace = True)\n",
    "    # Drop un-encoded data\n",
    "    data = data[data[activity] != 'private/not coded']\n",
    "    return data"
   ]
  }
 ],
 "metadata": {
  "kernelspec": {
   "display_name": "Python 3 (ipykernel)",
   "language": "python",
   "name": "python3"
  },
  "language_info": {
   "codemirror_mode": {
    "name": "ipython",
    "version": 3
   },
   "file_extension": ".py",
   "mimetype": "text/x-python",
   "name": "python",
   "nbconvert_exporter": "python",
   "pygments_lexer": "ipython3",
   "version": "3.9.12"
  }
 },
 "nbformat": 4,
 "nbformat_minor": 5
}
