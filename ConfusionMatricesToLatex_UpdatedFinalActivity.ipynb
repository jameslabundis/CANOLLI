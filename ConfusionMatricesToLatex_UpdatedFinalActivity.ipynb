{
 "cells": [
  {
   "cell_type": "markdown",
   "metadata": {},
   "source": [
    "The ordering of the confusion matrix must be: \"sit/lie\", \"stand and move\", \"walking\", \"running\", \"bicycling\"\n",
    "                     \n",
    "With Actual on the Rows and Predicted on the Columns"
   ]
  },
  {
   "cell_type": "markdown",
   "metadata": {},
   "source": [
    "This takes in a folder of confusion matrices that are space delimited “ “ in text files. The titling of the latex tables relies heavily on the name of the confusion matrix text file. Since we had Single Sensor and Two Sensor Results, we had two folders for confusion matrices:\n",
    "\n",
    "SingleSensorResults\n",
    "\n",
    "TwoSensorResults\n",
    "\n",
    "\n",
    "\n",
    "\n",
    "Within each of those folders there are various folders corresponding to the activity encoding being classified:\n",
    "\n",
    "BroadActivity\n",
    "\n",
    "DetailedActivity\n",
    "\n",
    "FinalActivity\n",
    "\n",
    "UpdatedFinalActivity\n",
    "\n",
    "\n",
    "\n",
    "\n",
    "Again within each of these folders I created one more folder to dump all the Latex Tables into called:\n",
    "\n",
    "LatexTables\n",
    "\n",
    "\n",
    "\n",
    "\n",
    "An example path for the text files of the confusion matrices to be converted to latex tables: \n",
    "\n",
    "SingleSensorResults/UpdatedFinalActivity/chest_updated_final_activity_cnf_mat.txt\n",
    "\n",
    "\n",
    "The notebook uses the “SingleSensorResults” folder to title that these are Single Sensor Results, and uses the “chest_” at the beginning of the title of the confusion matrix file to title that these are Chest Results.\n",
    "\n",
    "The title for the above would look like: Single Sensor: Chest Updated Final Activity\n",
    "\n",
    "Another example path is:\n",
    "\n",
    "TwoSensorResults/UpdatedFinalActivity/chest+wrist_updated_final_activity_cnf_mat.txt\n",
    "The “+” is used to split the Chest and Wrist for the title. \n",
    "\n",
    "The corresponding title for this example would be: Two Sensor: Chest & Wrist Updated Final Activity"
   ]
  },
  {
   "cell_type": "markdown",
   "metadata": {},
   "source": [
    "## Change the path below to indicate which folder of confusion matrices you would like to convert to latex tables"
   ]
  },
  {
   "cell_type": "code",
   "execution_count": 2,
   "metadata": {},
   "outputs": [],
   "source": [
    "sensor_folder = \"SingleSensorResults/UpdatedFinalActivity/Segmentation\""
   ]
  },
  {
   "cell_type": "code",
   "execution_count": 2,
   "metadata": {},
   "outputs": [],
   "source": [
    "from os import listdir\n",
    "from os.path import isfile, join\n",
    "files = [f for f in listdir(sensor_folder) if isfile(join(sensor_folder, f))]\n",
    "files = [f for f in files if f.split(\".\")[-1] == \"txt\" ]"
   ]
  },
  {
   "cell_type": "code",
   "execution_count": 3,
   "metadata": {},
   "outputs": [],
   "source": [
    "import numpy as np"
   ]
  },
  {
   "cell_type": "code",
   "execution_count": 4,
   "metadata": {},
   "outputs": [],
   "source": [
    "detailed_activites = [\"sit/lie\", \"stand and move\", \"walking\", \"running\", \"bicycling\"]"
   ]
  },
  {
   "cell_type": "code",
   "execution_count": 5,
   "metadata": {},
   "outputs": [],
   "source": [
    "def convert_to_latex(read, sensor_folder):\n",
    "    sensor = read.split(\"_\")[0].capitalize()\n",
    "    two_or_single_sensor = sensor_folder.replace(\"SensorResults/UpdatedFinalActivity\", \"\")\n",
    "    if two_or_single_sensor not in [\"Single\", \"Two\"]:\n",
    "        two_or_single_sensor = sensor_folder.replace(\"SingleSensorResults/UpdatedFinalActivity/\",\"\").replace(\"_\",\" \")\n",
    "    elif two_or_single_sensor == \"Single\":\n",
    "        two_or_single_sensor += \" Sensor Neural Network\"\n",
    "        sensor = read.split(\"_\")[0].capitalize()\n",
    "    else:\n",
    "        two_or_single_sensor += \" Sensor Neural Network\"\n",
    "        sensors = read.split(\"_\")[0].split(\"+\")\n",
    "        sensor = sensors[0].capitalize() + \" \\\\& \" + sensors[1].capitalize()\n",
    "    read_file = open(sensor_folder+ \"/\"+ read,'r')\n",
    "    write = sensor_folder + \"/LatexTables/latex_\" + read\n",
    "    mat=[]\n",
    "    for line in read_file.readlines():\n",
    "        mat.append([ int(round(float(x),0)) for x in line.replace(\"\\n\",\"\").split(' ') ])\n",
    "    mat = np.matrix(mat)\n",
    "    precision = []\n",
    "    recall = []\n",
    "    for i in range(len(detailed_activites)):\n",
    "        val = float(mat[i,i])\n",
    "        denom_p = np.sum(mat[:,i])\n",
    "        denom_r = np.sum(mat[i,:])\n",
    "        if denom_p != 0:\n",
    "            p = val/denom_p\n",
    "        else:\n",
    "            p = 0.0\n",
    "        if denom_r != 0:\n",
    "            r = val/denom_r\n",
    "        else:\n",
    "            r = 0.0\n",
    "        precision.append(round(p,3))\n",
    "        recall.append(round(r,3))\n",
    "    \n",
    "    v1 = mat[0,0]\n",
    "    v2 = mat[0,1]\n",
    "    v3 = mat[0,2]\n",
    "    v4 = mat[0,3]\n",
    "    v5 = mat[0,4]\n",
    "    v6 = recall[0]\n",
    "    v7 = mat[1,0]\n",
    "    v8 = mat[1,1]\n",
    "    v9 = mat[1,2]\n",
    "    v10 = mat[1,3]\n",
    "    v11 = mat[1,4]\n",
    "    v12 = recall[1]\n",
    "    v13 = mat[2,0]\n",
    "    v14 = mat[2,1]\n",
    "    v15 = mat[2,2]\n",
    "    v16 = mat[2,3]\n",
    "    v17 = mat[2,4]\n",
    "    v18 = recall[2]\n",
    "    v19 = mat[3,0]\n",
    "    v20 = mat[3,1]\n",
    "    v21 = mat[3,2]\n",
    "    v22 = mat[3,3]\n",
    "    v23 = mat[3,4]\n",
    "    v24 = recall[3]\n",
    "    v25 = mat[4,0]\n",
    "    v26 = mat[4,1]\n",
    "    v27 = mat[4,2]\n",
    "    v28 = mat[4,3]\n",
    "    v29 = mat[4,4]\n",
    "    v30 = recall[4]\n",
    "    v31 = precision[0]\n",
    "    v32 = precision[1]\n",
    "    v33 = precision[2]\n",
    "    v34 = precision[3]\n",
    "    v35 = precision[4]\n",
    "    v36 = round(float(np.sum(mat.diagonal()))/mat.sum(),3)\n",
    "    cool_string = \"\"\"\\\\begin{table}[]\n",
    "    \\\\caption {%s: %s Final Activity} \\label{tab:title}\n",
    "    \\\\begin{tabular}{ll|c|c|c|c|c||c|}\n",
    "           & \\\\multicolumn{7}{c}{\\\\bf Predicted}                                                                                                                                                                                     \\\\\\\\ \\\\cline{3-8}\n",
    "           &                & \\\\multicolumn{1}{l|}{Sit/Lie} & \\\\multicolumn{1}{l|}{Stand and Move} & \\\\multicolumn{1}{l|}{Walking} & \\\\multicolumn{1}{l|}{Running} & \\\\multicolumn{1}{l||}{Bicycle} & \\\\multicolumn{1}{l|}{\\\\bf Recall} \\\\\\\\ \\\\cline{2-8} \n",
    "           & \\\\multicolumn{1}{|r|}{Sit/Lie}      & \\\\cellcolor[gray]{.8}{%s}                     & %s                                   & %s                              & %s                            & %s                            & {\\\\bf %s}                     \\\\\\\\ \\\\cline{2-8} \n",
    "           & \\\\multicolumn{1}{|r|}{Stand and Move} & %s                              & \\\\cellcolor[gray]{.8}{%s}                          & %s                              & %s                           & %s                           & {\\\\bf %s}                     \\\\\\\\ \\\\cline{2-8} \n",
    "    {\\\\bf Actual} & \\\\multicolumn{1}{|r|}{Walking}      & %s                             & %s                                  & \\\\cellcolor[gray]{.8}{%s}                    & %s                           & %s                           & {\\\\bf %s}                     \\\\\\\\ \\\\cline{2-8} \n",
    "           & \\\\multicolumn{1}{|r|}{Running}        & %s                             & %s                                  & %s                             & \\\\cellcolor[gray]{.8}{%s}                  & %s                           & {\\\\bf %s}                   \\\\\\\\ \\\\cline{2-8} \n",
    "           & \\\\multicolumn{1}{|r|}{Bicycle}        & %s                             & %s                                  & %s                             & %s                           & \\\\cellcolor[gray]{.8}{%s}                  & {\\\\bf %s}                       \\\\\\\\ \\\\hhline{~=======}\n",
    "           & \\\\multicolumn{1}{|r|}{\\\\bf Precision}      & {\\\\bf %s}                             & {\\\\bf %s}                                  & {\\\\bf %s}                             & {\\\\bf %s}                           & {\\\\bf %s}                           & \\\\cellcolor[gray]{.8}{\\\\bf %s}                 \\\\\\\\ \\\\cline{2-8} \n",
    "    \\\\end{tabular}\n",
    "    \\\\end{table}\n",
    "    \"\"\" % (two_or_single_sensor,sensor,v1, v2, v3, v4,v5, v6, v7, v8, v9, v10, v11, v12, v13, v14, v15, v16, v17, v18, v19, v20, v21, v22, v23,\n",
    "          v24, v25, v26, v27, v28, v29, v30, v31, v32, v33, v34, v35, v36)\n",
    "    file = open(write,\"w\")\n",
    "    file.write(cool_string)\n",
    "    file.close()"
   ]
  },
  {
   "cell_type": "code",
   "execution_count": 6,
   "metadata": {},
   "outputs": [],
   "source": [
    "def convert_folder(sensor_folder):\n",
    "    files = [f for f in listdir(sensor_folder) if isfile(join(sensor_folder, f))]\n",
    "    files = [f for f in files if f.split(\".\")[-1] == \"txt\" ]\n",
    "    for file in files:\n",
    "        convert_to_latex(file, sensor_folder)"
   ]
  },
  {
   "cell_type": "code",
   "execution_count": 7,
   "metadata": {},
   "outputs": [],
   "source": [
    "convert_folder(sensor_folder)"
   ]
  },
  {
   "cell_type": "code",
   "execution_count": null,
   "metadata": {},
   "outputs": [],
   "source": []
  }
 ],
 "metadata": {
  "kernelspec": {
   "display_name": "Python 3",
   "language": "python",
   "name": "python3"
  },
  "language_info": {
   "codemirror_mode": {
    "name": "ipython",
    "version": 3
   },
   "file_extension": ".py",
   "mimetype": "text/x-python",
   "name": "python",
   "nbconvert_exporter": "python",
   "pygments_lexer": "ipython3",
   "version": "3.7.1"
  }
 },
 "nbformat": 4,
 "nbformat_minor": 2
}
