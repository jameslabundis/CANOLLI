{
 "cells": [
  {
   "cell_type": "code",
   "execution_count": 27,
   "metadata": {},
   "outputs": [],
   "source": [
    "import pandas as pd\n",
    "import numpy as np\n",
    "import tensorflow as tf\n",
    "import itertools\n",
    "from tensorflow.keras import layers\n",
    "import matplotlib.pyplot as plt\n",
    "import keras\n",
    "import math\n",
    "from sklearn.model_selection import KFold\n",
    "import sklearn.metrics\n",
    "from ann_visualizer.visualize import ann_viz\n",
    "import graphviz\n",
    "from sklearn.model_selection import train_test_split"
   ]
  },
  {
   "cell_type": "code",
   "execution_count": 28,
   "metadata": {},
   "outputs": [],
   "source": [
    "# Number of epochs for neural network training\n",
    "NUM_EPOCHS = 15\n",
    "\n",
    "def get_model_1layer_final():\n",
    "    # Neural Network Architecture for single sensor\n",
    "    model = tf.keras.Sequential([\n",
    "            layers.Dense(83, activation=\"relu\", input_shape = (83,)),\n",
    "            layers.Dense(64, activation=\"relu\"),\n",
    "            layers.Dense(32, activation=\"relu\"),\n",
    "            layers.Dense(16, activation=\"relu\"),\n",
    "            layers.Dense(8, activation=\"relu\"),\n",
    "            layers.Dense(5, activation = 'softmax')])\n",
    "    model.compile(optimizer=\"sgd\", loss='categorical_crossentropy', metrics=['accuracy'])\n",
    "    return model\n",
    "\n",
    "def clean_data(sensor, activity):\n",
    "    data = pd.read_csv(sensor + \".csv\", low_memory = False)\n",
    "    # Take out unnamed columns\n",
    "    data.drop([col for col in data.columns if \"Unnamed\" in col], axis=1, inplace = True)\n",
    "    # Drop not encoded data\n",
    "    data = data[data[activity] != 'private/not coded']\n",
    "    return data\n"
   ]
  },
  {
   "cell_type": "markdown",
   "metadata": {},
   "source": [
    "# Data Import"
   ]
  },
  {
   "cell_type": "code",
   "execution_count": 29,
   "metadata": {},
   "outputs": [],
   "source": [
    "data = clean_data(\"thigh\", \"updated_final_activity\")\n",
    "used_cols = data.columns[18:(82 + 19)].tolist() + ['updated_final_activity']\n",
    "used_data = data[used_cols]\n",
    "\n",
    "\n",
    "X = used_data.drop(\"updated_final_activity\", axis = 1)\n",
    "y = used_data['updated_final_activity']"
   ]
  },
  {
   "cell_type": "code",
   "execution_count": 33,
   "metadata": {},
   "outputs": [],
   "source": [
    "# Custom class for Ada-Boosting of a neural network\n",
    "\n",
    "class Boosting:\n",
    "    def __init__(self,dataset,T,test_dataset):\n",
    "        self.dataset = dataset\n",
    "        self.T = T\n",
    "        self.test_dataset = test_dataset\n",
    "        self.alphas = None\n",
    "        self.models = None\n",
    "        self.ensemble_preds = []\n",
    "        self.class_labels = None\n",
    "        \n",
    "        self.model_correct = []\n",
    "        \n",
    "        self.tot_correct = 0\n",
    "        self.total = 0\n",
    "    def fit(self):\n",
    "        # Set the descriptive features and the target feature\n",
    "        X = self.dataset.drop(['updated_final_activity'],axis=1)\n",
    "        X = X.fillna(X.mean()).values\n",
    "        \n",
    "        y = self.dataset['updated_final_activity']\n",
    "        \n",
    "        self.class_labels = pd.get_dummies(y).columns.tolist()\n",
    "        Y = pd.get_dummies(y).values\n",
    "        Evaluation = pd.DataFrame(y.copy())\n",
    "        Evaluation['weights'] = 1/len(self.dataset) # Set the initial weights w = 1/N\n",
    "        \n",
    "        # Run the boosting algorithm by creating T \"weighted models\"\n",
    "        \n",
    "        alphas = [] \n",
    "        models = []\n",
    "        \n",
    "        # Train t estimators for the ensemmble\n",
    "        \n",
    "        for t in range(self.T):\n",
    "            # Train the Neural Network\n",
    "            nn = get_model_1layer_updated() \n",
    "            \n",
    "            nn.fit(X, Y, batch_size = 128, epochs = NUM_EPOCHS, verbose = False) \n",
    "            \n",
    "            # Append the single weak classifiers to a list which is later on used to make the \n",
    "            # weighted decision\n",
    "            models.append(nn)\n",
    "            \n",
    "            # Get model predictions, save as list\n",
    "            y_pred = np.argmax(nn.predict(X, verbose = 1), axis = 1)\n",
    "            predictions = [self.class_labels[x] for x in y_pred.tolist()]\n",
    "            #score = model.score(X,Y)\n",
    "            # Add values to the Evaluation DataFrame\n",
    "            Evaluation['predictions'] = predictions\n",
    "            Evaluation['evaluation'] = np.where(Evaluation['predictions'] == Evaluation['updated_final_activity'],1,0)\n",
    "            Evaluation['misclassified'] = np.where(Evaluation['predictions'] != Evaluation['updated_final_activity'],1,0)\n",
    "            # Calculate the misclassification rate and accuracy\n",
    "            accuracy = sum(Evaluation['evaluation'])/len(Evaluation['evaluation'])\n",
    "            misclassification = sum(Evaluation['misclassified'])/len(Evaluation['misclassified'])\n",
    "            # Caclulate the error\n",
    "            err = np.sum(Evaluation['weights']*Evaluation['misclassified'])/np.sum(Evaluation['weights'])\n",
    " \n",
    "\n",
    "            # Calculate the alpha values\n",
    "            alpha = np.log((1-err)/err)\n",
    "            alphas.append(alpha)\n",
    "            # Update the weights wi --> These updated weights are used in the sample_weight parameter\n",
    "            # for the training of the next decision stump. \n",
    "            Evaluation['weights'] *= np.exp(alpha*Evaluation['misclassified'])\n",
    "            #print('The Accuracy of the {0}. model is : '.format(t+1),accuracy*100,'%')\n",
    "            #print('The missclassification rate is: ',misclassification*100,'%')\n",
    "        \n",
    "        self.alphas = alphas\n",
    "        self.models = models\n",
    "    \n",
    "    # Prediction that uses \"majority rule\" vote. Uses the error for each model as weights for each models input\n",
    "    # on the final prediction\n",
    "    def predict(self):\n",
    "        X_test = self.test_dataset.drop(['updated_final_activity'],axis=1)\n",
    "        Y_test = self.test_dataset['updated_final_activity']\n",
    "        \n",
    "        # With each model in the self.model list, make a prediction \n",
    "        \n",
    "        accuracy = []\n",
    "        predictions = []\n",
    "        \n",
    "        for alpha,model in zip(self.alphas,self.models):\n",
    "            # Apply model weight to prediction        \n",
    "            prediction = alpha * model.predict(X_test)\n",
    "            predictions.append(prediction)\n",
    "            # Make predictions with current number of models\n",
    "            agg_predictions = np.sum(np.array(predictions),axis=0)\n",
    "            preds = [np.argmax(np.where(p==np.max(p),1,0), axis = 0) for p in agg_predictions]\n",
    "            pred_labels = np.array([self.class_labels[p] for p in preds])\n",
    "            # Append predictions for current ensemble\n",
    "            self.ensemble_preds.append(pred_labels)\n",
    "            self.model_correct.append(np.sum(pred_labels == Y_test.values))\n",
    "        \n",
    "        # Update total predictions and correctly classified\n",
    "        self.total = len(Y_test)\n",
    "        "
   ]
  },
  {
   "cell_type": "code",
   "execution_count": 34,
   "metadata": {},
   "outputs": [],
   "source": [
    "\n",
    "\"\"\"\n",
    "Function for k-fold cross validation for an ensemble of feed forward neural networks\n",
    "to determine accuracy. Makes an ensemble with n estimators for each kfold.\n",
    "\n",
    "Parameters:\n",
    "data(DataFrame): Dataframe with sensor data\n",
    "splits(int): Number of splits for kfold cross validation\n",
    "class_labels(list): List of strings containing the class labels for\n",
    "    the classifier\n",
    "cw(dict/None): Dictionary containing class weights for each class label,\n",
    "    an be passed none for equal weighting\n",
    "\n",
    "Returns:\n",
    "list --> list of Boosting instances (ensembles) for each k-fold\n",
    "\n",
    "\"\"\"\n",
    "def run_kfold_ensemble(data, splits, num_estimators):\n",
    "    kf = KFold(n_splits=splits)\n",
    "    cnf_tables = []\n",
    "    num_correct = 0\n",
    "    num_total = 0\n",
    "    ensembles = []\n",
    "    \n",
    "    for train_index, test_index, in kf.split(X):\n",
    "        # Split data into train and test\n",
    "        train, test = data.iloc[train_index], data.iloc[test_index]\n",
    "        ensembles.append\n",
    "        model = Boosting(train,num_estimators,test)\n",
    "        model.fit()\n",
    "        model.predict()\n",
    "        ensembles.append(model)\n",
    "    # Return ensemble of models for each kfold\n",
    "    return ensembles\n",
    "        "
   ]
  },
  {
   "cell_type": "markdown",
   "metadata": {},
   "source": [
    "# Run Neural Network Ensemble, Graph Results"
   ]
  },
  {
   "cell_type": "code",
   "execution_count": 13,
   "metadata": {},
   "outputs": [],
   "source": [
    "# Run k fold validation for ensemble\n",
    "ensembles = run_kfold_ensemble(used_data, 10, 30)\n",
    "test = ensembles[0]\n",
    "test.model_correct[29]\n",
    "num_estimators = 30"
   ]
  },
  {
   "cell_type": "code",
   "execution_count": 36,
   "metadata": {},
   "outputs": [],
   "source": [
    "n_est_acc = []\n",
    "\n",
    "# Calculate the kfold accuracy for each number of estimators in the ensemble\n",
    "for n in range(num_estimators):\n",
    "    kfold_correct = 0\n",
    "    kfold_total = 0\n",
    "    for kf in ensembles:\n",
    "        kfold_correct += kf.model_correct[n]\n",
    "        kfold_total += kf.total\n",
    "    n_est_acc.append((n+1 ,kfold_correct/ kfold_total))\n",
    "        \n",
    "        \n",
    "    "
   ]
  },
  {
   "cell_type": "code",
   "execution_count": 38,
   "metadata": {},
   "outputs": [
    {
     "data": {
      "text/plain": [
       "[<matplotlib.lines.Line2D at 0x2a35ed40470>]"
      ]
     },
     "execution_count": 38,
     "metadata": {},
     "output_type": "execute_result"
    },
    {
     "data": {
      "image/png": "[encoded data removed]",
      "text/plain": [
       "<Figure size 432x288 with 1 Axes>"
      ]
     },
     "metadata": {
      "needs_background": "light"
     },
     "output_type": "display_data"
    }
   ],
   "source": [
    "x = [a for (a,b) in n_est_acc]\n",
    "y = [b for (a,b) in n_est_acc]\n",
    "plt.title(\"NN Boosting(Thigh): # Estimators vs 10 KFold Acc\")\n",
    "plt.ylabel(\"10 KFold Acc\")\n",
    "plt.xlabel(\"# Estimators\")\n",
    "plt.plot(x,y)\n"
   ]
  },
  {
   "cell_type": "markdown",
   "metadata": {},
   "source": [
    "Initialize all weights to $w = \\frac{1}{n}$ where $n$ is the number of instances in the dataset\n",
    "\n",
    "while $t$ < $T$ ($T$==number of models to be grown) do:\n",
    "Create a model and get the hypothesis $h_t(x_n)$ for all datapoints $x_n$ in the dataset\n",
    "Calculate the error $\\epsilon$ of the training set summing over all datapoints $x_n$ in the training set with:\n",
    "$$\\epsilon_t \\ \\ = \\ \\ \\ \\frac{\\sum_{n=1}^{N}w_n^{(t)}*I(y_n\\neq h_t(x_n))}{\\sum_{n=1}^{N}w_{n}^{(t)}}$$ where $I(cond)$ returns 1 if $I(cond)$ == True and 0 otherwise\n",
    "\n",
    "Compute $\\alpha$ with:\n",
    "$$\\alpha_t\\ \\ =\\ \\ \\log(\\frac{1-\\epsilon_t}{\\epsilon_t}) $$\n",
    "\n",
    "Update the weights for the $N$ training instances in the next ($t+1$) model with:\n",
    "$$w_{n}^{(t+1)}\\ \\ = \\ \\ w_{n}^{(t)}*exp(\\alpha_t*I(y_n\\neq h_t(x_n)))$$\n",
    "\n",
    "After the $T$ iterations, calculate the final output with:\n",
    "$$f(x)\\ \\ = \\ \\ sign(\\sum_t^T \\alpha_t*h_t(x))$$"
   ]
  }
 ],
 "metadata": {
  "kernelspec": {
   "display_name": "Python [conda root]",
   "language": "python",
   "name": "conda-root-py"
  },
  "language_info": {
   "codemirror_mode": {
    "name": "ipython",
    "version": 3
   },
   "file_extension": ".py",
   "mimetype": "text/x-python",
   "name": "python",
   "nbconvert_exporter": "python",
   "pygments_lexer": "ipython3",
   "version": "3.5.6"
  }
 },
 "nbformat": 4,
 "nbformat_minor": 2
}
