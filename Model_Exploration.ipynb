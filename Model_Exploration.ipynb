{
 "cells": [
  {
   "cell_type": "code",
   "execution_count": 39,
   "metadata": {},
   "outputs": [],
   "source": [
    "import pandas as pd\n",
    "import numpy as np\n",
    "from sklearn.model_selection import train_test_split\n",
    "from sklearn.decomposition import PCA\n",
    "from sklearn.ensemble import RandomForestClassifier\n",
    "import matplotlib.pyplot as plt\n",
    "import warnings\n",
    "from sklearn.model_selection import KFold\n",
    "from sklearn.metrics import confusion_matrix  \n",
    "from sklearn.metrics import accuracy_score\n",
    "from sklearn.ensemble import AdaBoostClassifier\n",
    "from sklearn.ensemble import GradientBoostingClassifier\n",
    "from sklearn.tree import DecisionTreeClassifier\n",
    "warnings.filterwarnings(\"ignore\")\n"
   ]
  },
  {
   "cell_type": "code",
   "execution_count": 40,
   "metadata": {},
   "outputs": [],
   "source": [
    "\"\"\"\n",
    "Function for k-fold cross validation for a random forest\n",
    "classifier to determine accuracy. Runs PCA on the input.\n",
    "The number of principal components is hard coded.\n",
    "\n",
    "Parameters:\n",
    "X(nd.array): Two dimensional numpy array containing X feature data\n",
    "Y(nd.array): Two dimensional numpy array containing dummified classes\n",
    "tree_depth(int): Maximum depth of the random forest\n",
    "splits(int): Number of splits for kfold cross validation\n",
    "class_labels(list): List of strings containing the class labels for\n",
    "    the classifier\n",
    "cw(dict/None): Dictionary containing class weights for each class label,\n",
    "    an be passed none for equal weighting\n",
    "\n",
    "Returns:\n",
    "tuple(float, list) --> (accuracy, cnf_tables)\n",
    "\n",
    "\"\"\"\n",
    "def run_kfold_pca(X, Y, splits, tree_depth, class_labels, cw):\n",
    "    kf = KFold(n_splits=splits)\n",
    "    cnf_tables = []\n",
    "    num_correct = 0\n",
    "    num_total = 0\n",
    "    \n",
    "    for train_index, test_index, in kf.split(X):\n",
    "        # Split data into train and test\n",
    "        X_train, X_test = X[train_index], X[test_index]\n",
    "        y_train, y_test = Y[train_index], Y[test_index]\n",
    "        \n",
    "        pca = PCA(n_components = 11)  \n",
    "        X_train = pca.fit_transform(X_train)  \n",
    "        X_test = pca.transform(X_test)\n",
    "        \n",
    "        clf = RandomForestClassifier(max_depth = tree_depth, class_weight = cw) \n",
    "        clf.fit(X_train, y_train)\n",
    "        \n",
    "        # Predicting the Test set results\n",
    "        y_pred = clf.predict(X_test)\n",
    "      \n",
    "        num_correct += np.sum(y_pred == y_test)\n",
    "        num_total += len(y_pred)\n",
    "        \n",
    "        cnf_tables.append(confusion_matrix(y_test, y_pred, labels = class_labels))\n",
    "    return ((num_correct/num_total), cnf_tables)\n",
    "\n",
    "\n",
    "\"\"\"\n",
    "Function for k-fold cross validation for an ensemble of Ada-Bosoted random forest\n",
    "classifiers to determine accuracy.\n",
    "\n",
    "Parameters:\n",
    "X(nd.array): Two dimensional numpy array containing X feature data\n",
    "Y(nd.array): Two dimensional numpy array containing dummified classes\n",
    "tree_depth(int): Maximum depth of the random forest\n",
    "splits(int): Number of splits for kfold cross validation\n",
    "num_est(int): Number of models in the ensemble\n",
    "class_labels(list): List of strings containing the class labels for\n",
    "    the classifier\n",
    "\n",
    "Returns:\n",
    "tuple(float, list) --> (accuracy, cnf_tables)\n",
    "\n",
    "\"\"\"\n",
    "\n",
    "def run_kfold_rf_adaboost(X, Y, splits, tree_depth, num_est, class_labels):\n",
    "    kf = KFold(n_splits=splits)\n",
    "    cnf_tables = []\n",
    "    num_correct = 0\n",
    "    num_total = 0\n",
    "    \n",
    "    for train_index, test_index, in kf.split(X):\n",
    "        # Split data into train and test\n",
    "        X_train, X_test = X[train_index], X[test_index]\n",
    "        y_train, y_test = Y[train_index], Y[test_index]\n",
    "        \n",
    "        \n",
    "        rf = RandomForestClassifier(max_depth = tree_depth)    \n",
    "        clf = AdaBoostClassifier(n_estimators = num_est, base_estimator=rf,\n",
    "            learning_rate = 1)\n",
    "        \n",
    "        clf.fit(X_train, y_train)\n",
    "        \n",
    "        # Predicting the Test set results\n",
    "        y_pred = clf.predict(X_test)\n",
    "      \n",
    "        num_correct += np.sum(y_pred == y_test)\n",
    "        num_total += len(y_pred)\n",
    "        \n",
    "        cnf_tables.append(confusion_matrix(y_test, y_pred, labels = class_labels))\n",
    "    return ((num_correct/num_total), cnf_tables)\n",
    "\n",
    "\n",
    "\"\"\"\n",
    "Function for k-fold cross validation for a random forest\n",
    "classifier to determine accuracy.\n",
    "\n",
    "Parameters:\n",
    "X(nd.array): Two dimensional numpy array containing X feature data\n",
    "Y(nd.array): Two dimensional numpy array containing dummified classes\n",
    "tree_depth(int): Maximum depth of the random forest\n",
    "splits(int): Number of splits for kfold cross validation\n",
    "class_labels(list): List of strings containing the class labels for\n",
    "    the classifier\n",
    "cw(dict/None): Dictionary containing class weights for each class label,\n",
    "    an be passed none for equal weighting\n",
    "\n",
    "Returns:\n",
    "tuple(float, list) --> (accuracy, cnf_tables)\n",
    "\n",
    "\"\"\"\n",
    "def run_kfold(X, Y, splits, tree_depth, class_labels, cw):\n",
    "    kf = KFold(n_splits=splits)\n",
    "    cnf_tables = []\n",
    "    num_correct = 0\n",
    "    num_total = 0\n",
    "    \n",
    "    for train_index, test_index, in kf.split(X):\n",
    "        # Split data into train and test\n",
    "        X_train, X_test = X[train_index], X[test_index]\n",
    "        y_train, y_test = Y[train_index], Y[test_index]\n",
    "\n",
    "        clf = RandomForestClassifier(max_depth = tree_depth, class_weight = cw) \n",
    "        clf.fit(X_train, y_train)\n",
    "\n",
    "        # Predicting the Test set results\n",
    "        y_pred = clf.predict(X_test) \n",
    "        num_correct += np.sum(y_pred == y_test)\n",
    "        num_total += len(y_pred)\n",
    "        cnf_tables.append(confusion_matrix(y_test, y_pred, labels = class_labels))\n",
    "\n",
    "    return ((num_correct/num_total), cnf_tables)\n",
    "\n",
    "\"\"\"\n",
    "Function for k-fold cross validation of an ensemble of ada boosted\n",
    "random forests. PCA is applied to the input. The number of principal \n",
    "components is hard coded.\n",
    "\n",
    "Parameters:\n",
    "X(nd.array): Two dimensional numpy array containing X feature data\n",
    "Y(nd.array): Two dimensional numpy array containing dummified classes\n",
    "splits(int): Number of splits for kfold cross validation\n",
    "tree_depth(int): Maximum depth of the random forest\n",
    "num_est(int): Number of models in the ensemble\n",
    "class_labels(list): List of strings containing the class labels for\n",
    "    the classifier\n",
    "\n",
    "\n",
    "Returns:\n",
    "tuple(float, list) --> (accuracy, cnf_tables)\n",
    "\n",
    "\"\"\"\n",
    "def run_kfold_pca_adaboost(X, Y, splits, tree_depth, num_est, class_labels):\n",
    "\n",
    "    kf = KFold(n_splits=splits)\n",
    "    cnf_tables = []\n",
    "    num_correct = 0\n",
    "    num_total = 0\n",
    "    \n",
    "    for train_index, test_index, in kf.split(X):\n",
    "        # Split data into train and test\n",
    "        X_train, X_test = X[train_index], X[test_index]\n",
    "        y_train, y_test = Y[train_index], Y[test_index]\n",
    "        \n",
    "        pca = PCA(n_components = 11)  \n",
    "        X_train = pca.fit_transform(X_train)  \n",
    "        X_test = pca.transform(X_test)\n",
    "        \n",
    "        rf = RandomForestClassifier(max_depth = tree_depth) \n",
    "        clf = AdaBoostClassifier(n_estimators = num_est, base_estimator=rf,\n",
    "            learning_rate = 1)\n",
    "        clf.fit(X_train, y_train)\n",
    "                \n",
    "        # Predicting the Test set results\n",
    "        y_pred = clf.predict(X_test) \n",
    "        \n",
    "        num_correct += np.sum(y_pred == y_test)\n",
    "        num_total += len(y_pred)\n",
    "        \n",
    "        cnf_tables.append(confusion_matrix(y_test, y_pred, labels = class_labels))\n",
    "    return ((num_correct/num_total), cnf_tables)\n",
    "\n",
    "\n",
    "\"\"\"\n",
    "Function for k-fold cross validation for a decision tree\n",
    "classifier to determine accuracy.\n",
    "\n",
    "Parameters:\n",
    "X(nd.array): Two dimensional numpy array containing X feature data\n",
    "Y(nd.array): Two dimensional numpy array containing dummified classes\n",
    "splits(int): Number of splits for kfold cross validation\n",
    "class_labels(list): List of strings containing the class labels for\n",
    "    the classifier\n",
    "pca_flag(boolean): Flag to decide whether PCA of the input is applied.\n",
    "    The number of principal components is hard coded\n",
    "opt(string): criterion for splitting decision tree \"entropy\" or \"gini\"\n",
    "\n",
    "Returns:\n",
    "tuple(float, list) --> (accuracy, cnf_tables)\n",
    "\n",
    "\"\"\"\n",
    "\n",
    "\n",
    "def run_kfold_dtree(X, Y, splits, class_labels, pca_flag, opt):\n",
    "    kf = KFold(n_splits=splits)\n",
    "    cnf_tables = []\n",
    "    num_correct = 0\n",
    "    num_total = 0\n",
    "    \n",
    "    for train_index, test_index, in kf.split(X):\n",
    "        # Split data into train and test\n",
    "        X_train, X_test = X[train_index], X[test_index]\n",
    "        y_train, y_test = Y[train_index], Y[test_index]\n",
    "        \n",
    "        if(pca_flag):\n",
    "            pca = PCA(n_components = 11)  \n",
    "            X_train = pca.fit_transform(X_train)  \n",
    "            X_test = pca.transform(X_test)\n",
    "            \n",
    "        clf = DecisionTreeClassifier(criterion = opt)\n",
    "        clf.fit(X_train, y_train)\n",
    "        # Predicting the Test set results\n",
    "        y_pred = clf.predict(X_test) \n",
    "        \n",
    "        num_correct += np.sum(y_pred == y_test)\n",
    "        num_total += len(y_pred)\n",
    "        \n",
    "        cnf_tables.append(confusion_matrix(y_test, y_pred, labels = class_labels))\n",
    "    return ((num_correct / num_total), cnf_tables)\n",
    "\n",
    "\"\"\"\n",
    "Function for k-fold cross validation for an ensemble of ada-boosted decision tree\n",
    "classifiers to determine accuracy.\n",
    "\n",
    "Parameters:\n",
    "X(nd.array): Two dimensional numpy array containing X feature data\n",
    "Y(nd.array): Two dimensional numpy array containing dummified classes\n",
    "splits(int): Number of splits for kfold cross validation\n",
    "class_labels(list): List of strings containing the class labels for\n",
    "    the classifier\n",
    "pca_flag(boolean): Flag to decide whether PCA of the input is applied.\n",
    "    The number of principal components is hard coded\n",
    "opt(string): criterion for splitting decision tree \"entropy\" or \"gini\"\n",
    "num_est: the number of models in the ensemble\n",
    "\n",
    "Returns:\n",
    "tuple(float, list) --> (accuracy, cnf_tables)\n",
    "\n",
    "\"\"\"\n",
    "\n",
    "def run_kfold_dtree_adaboost(X, Y, splits, class_labels, pca_flag, opt, num_est):\n",
    "    kf = KFold(n_splits=splits)\n",
    "    cnf_tables = []\n",
    "    num_correct = 0\n",
    "    num_total = 0\n",
    "    \n",
    "    for train_index, test_index, in kf.split(X):\n",
    "        # Split data into train and test\n",
    "        X_train, X_test = X[train_index], X[test_index]\n",
    "        y_train, y_test = Y[train_index], Y[test_index]\n",
    "        \n",
    "        if(pca_flag):\n",
    "            pca = PCA(n_components = 11)  \n",
    "            X_train = pca.fit_transform(X_train)  \n",
    "            X_test = pca.transform(X_test)\n",
    "            \n",
    "        d_tree = DecisionTreeClassifier(criterion = opt)\n",
    "        clf = AdaBoostClassifier(n_estimators = num_est, base_estimator=d_tree,\n",
    "            learning_rate = 1)\n",
    "        clf.fit(X_train, y_train)\n",
    "        # Predicting the Test set results\n",
    "        y_pred = clf.predict(X_test) \n",
    "        \n",
    "        num_correct += np.sum(y_pred == y_test)\n",
    "        num_total += len(y_pred)\n",
    "        \n",
    "        cnf_tables.append(confusion_matrix(y_test, y_pred, labels = class_labels))\n",
    "    return ((num_correct / num_total), cnf_tables)\n",
    "\n",
    "\"\"\"\n",
    "Function for initial data cleaning.\n",
    "\n",
    "Parameters:\n",
    "\n",
    "sensor(string): sensor name \n",
    "activity(string): activity type\n",
    "\n",
    "Returns:\n",
    "\n",
    "pandas Dataframe\n",
    "\n",
    "\"\"\"\n",
    "def clean_data(sensor, activity):\n",
    "    data = pd.read_csv(sensor + \".csv\", low_memory = False)\n",
    "    # Take out unnamed columns\n",
    "    data.drop([col for col in data.columns if \"Unnamed\" in col], axis=1, inplace = True)\n",
    "    # Drop not encoded data\n",
    "    data = data[data[activity] != 'private/not coded']\n",
    "    return data\n"
   ]
  },
  {
   "cell_type": "markdown",
   "metadata": {},
   "source": [
    "# Data Import"
   ]
  },
  {
   "cell_type": "code",
   "execution_count": 16,
   "metadata": {},
   "outputs": [],
   "source": [
    "data = clean_data(\"thigh\", \"updated_final_activity\")\n",
    "used_cols = data.columns[18:(82 + 19)].tolist() + ['updated_final_activity']\n",
    "used_data = data[used_cols]\n",
    "\n",
    "\n",
    "X = used_data.drop(\"updated_final_activity\", axis = 1).apply(lambda x: (x - np.mean(x)) / np.std(x))\n",
    "y = used_data['updated_final_activity']"
   ]
  },
  {
   "cell_type": "markdown",
   "metadata": {},
   "source": [
    "## Optimize Random Forest Original Input"
   ]
  },
  {
   "cell_type": "code",
   "execution_count": 32,
   "metadata": {},
   "outputs": [],
   "source": [
    "# Optimize random forest with original input\n",
    "tree_depths = []\n",
    "accs = []\n",
    "dummy_labels = ['sit/lie', 'stand and move', 'walking', 'running',\n",
    "               'bicycling']\n",
    "for depth in range(1,18,2):  \n",
    "    res = run_kfold(X.values, y.values, 10, depth, dummy_labels, None)\n",
    "    tree_depths.append(depth)\n",
    "    accs.append(res[0])\n",
    "    #print('Depth: ' + str(depth) + \" Acc: \" + str(acc))"
   ]
  },
  {
   "cell_type": "code",
   "execution_count": 33,
   "metadata": {},
   "outputs": [
    {
     "data": {
      "image/png": "[encoded data removed]",
      "text/plain": [
       "<Figure size 432x288 with 1 Axes>"
      ]
     },
     "metadata": {
      "needs_background": "light"
     },
     "output_type": "display_data"
    }
   ],
   "source": [
    "plt.plot(tree_depths,accs)\n",
    "plt.title(\"KFold Accuracy vs RF Tree Depth\")\n",
    "plt.ylabel('10 KFold Accuracy')\n",
    "plt.xlabel(\"Tree Depth (Layers)\")\n",
    "plt.show()"
   ]
  },
  {
   "cell_type": "markdown",
   "metadata": {},
   "source": [
    "## Optimize Random Forest PCA Input"
   ]
  },
  {
   "cell_type": "code",
   "execution_count": 34,
   "metadata": {
    "scrolled": true
   },
   "outputs": [],
   "source": [
    "# Optimize random forest with PCA \n",
    "tree_depths = []\n",
    "accs = []\n",
    "dummy_labels = ['sit/lie', 'stand and move', 'walking', 'running',\n",
    "               'bicycling']\n",
    "for depth in range(1,18,2):  \n",
    "    res = run_kfold_pca(X.values, y.values, 10, depth, dummy_labels,\n",
    "                       None)\n",
    "    tree_depths.append(depth)\n",
    "    accs.append(res[0])\n",
    "    # print('Depth: ' + str(depth) + \" Acc: \" + str(acc))"
   ]
  },
  {
   "cell_type": "code",
   "execution_count": 35,
   "metadata": {},
   "outputs": [
    {
     "data": {
      "image/png": "[encoded data removed]",
      "text/plain": [
       "<Figure size 432x288 with 1 Axes>"
      ]
     },
     "metadata": {
      "needs_background": "light"
     },
     "output_type": "display_data"
    }
   ],
   "source": [
    "plt.plot(tree_depths,accs)\n",
    "plt.title(\"KFold Accuracy vs RF Tree Depth(PC = 11)\")\n",
    "plt.ylabel('10 KFold Accuracy')\n",
    "plt.xlabel(\"Tree Depth (Layers)\")\n",
    "plt.show()"
   ]
  },
  {
   "cell_type": "markdown",
   "metadata": {},
   "source": [
    "## Best RF for PCA Input"
   ]
  },
  {
   "cell_type": "code",
   "execution_count": 36,
   "metadata": {},
   "outputs": [
    {
     "data": {
      "text/plain": [
       "0.9272823207335029"
      ]
     },
     "execution_count": 36,
     "metadata": {},
     "output_type": "execute_result"
    }
   ],
   "source": [
    "dummy_labels = ['sit/lie', 'stand and move', 'walking', 'running',\n",
    "               'bicycling']\n",
    "res = run_kfold_pca(X.values, y.values, 10, 7, dummy_labels, None)\n",
    "sum_cnf_matrix = np.sum(res[1], axis = 0)\n",
    "np.savetxt(\"thigh_upfinal_pcarf_cnf_mat.txt\", sum_cnf_matrix,\n",
    "                   fmt = '%1.2f')\n",
    "res[0]"
   ]
  },
  {
   "cell_type": "markdown",
   "metadata": {},
   "source": [
    "## Best RF for Orignal Input"
   ]
  },
  {
   "cell_type": "code",
   "execution_count": 37,
   "metadata": {},
   "outputs": [
    {
     "data": {
      "text/plain": [
       "0.9358847920793173"
      ]
     },
     "execution_count": 37,
     "metadata": {},
     "output_type": "execute_result"
    }
   ],
   "source": [
    "dummy_labels = ['sit/lie', 'stand and move', 'walking', 'running',\n",
    "               'bicycling']\n",
    "res = run_kfold(X.values, y.values, 10, 9, dummy_labels, None)\n",
    "sum_cnf_matrix = np.sum(res[1], axis = 0)\n",
    "np.savetxt(\"thigh_upfinal_rf_cnf_mat.txt\", sum_cnf_matrix,\n",
    "                   fmt = '%1.2f')\n",
    "res[0]"
   ]
  },
  {
   "cell_type": "markdown",
   "metadata": {},
   "source": [
    "## Best RF for PCA Input W/ Balanced Class Weights"
   ]
  },
  {
   "cell_type": "code",
   "execution_count": 98,
   "metadata": {},
   "outputs": [
    {
     "data": {
      "text/plain": [
       "0.9186908994472208"
      ]
     },
     "execution_count": 98,
     "metadata": {},
     "output_type": "execute_result"
    }
   ],
   "source": [
    "dummy_labels = ['sit/lie', 'stand and move', 'walking', 'running',\n",
    "               'bicycling']\n",
    "res = run_kfold_pca(X.values, y.values, 10, 7, dummy_labels, \"balanced\")\n",
    "sum_cnf_matrix = np.sum(res[1], axis = 0)\n",
    "res[0]"
   ]
  },
  {
   "cell_type": "markdown",
   "metadata": {},
   "source": [
    "## Best RF for PCA Input W/ Balanced Subsample Class Weights"
   ]
  },
  {
   "cell_type": "code",
   "execution_count": 99,
   "metadata": {},
   "outputs": [
    {
     "data": {
      "text/plain": [
       "0.9209451115917887"
      ]
     },
     "execution_count": 99,
     "metadata": {},
     "output_type": "execute_result"
    }
   ],
   "source": [
    "dummy_labels = ['sit/lie', 'stand and move', 'walking', 'running',\n",
    "               'bicycling']\n",
    "res = run_kfold_pca(X.values, y.values, 10, 7, dummy_labels,\n",
    "                    \"balanced_subsample\")\n",
    "sum_cnf_matrix = np.sum(res[1], axis = 0)\n",
    "res[0]"
   ]
  },
  {
   "cell_type": "markdown",
   "metadata": {},
   "source": [
    "## Principal Component Analysis"
   ]
  },
  {
   "cell_type": "code",
   "execution_count": 19,
   "metadata": {},
   "outputs": [
    {
     "data": {
      "text/plain": [
       "[<matplotlib.lines.Line2D at 0x1f7443a6390>]"
      ]
     },
     "execution_count": 19,
     "metadata": {},
     "output_type": "execute_result"
    },
    {
     "data": {
      "image/png": "[encoded data removed]",
      "text/plain": [
       "<Figure size 432x288 with 1 Axes>"
      ]
     },
     "metadata": {
      "needs_background": "light"
     },
     "output_type": "display_data"
    }
   ],
   "source": [
    "# Splitting the dataset into the Training set and Test set\n",
    "X_train, X_test, y_train, y_test = train_test_split(X, y, test_size=0.2) \n",
    "\n",
    "pca = PCA()  \n",
    "X_train = pca.fit_transform(X_train)  \n",
    "X_test = pca.transform(X_test)  \n",
    "\n",
    "explained_variance = pca.explained_variance_ratio_  \n",
    "\n",
    "plt.title(\"Explained Variance by PC\")\n",
    "plt.xlabel(\"PC #\")\n",
    "plt.ylabel(\"Explained Variance\")\n",
    "plt.plot([x for x in range(1,84)], explained_variance,'ro-', linewidth=2, markersize=3.5)"
   ]
  },
  {
   "cell_type": "code",
   "execution_count": 28,
   "metadata": {},
   "outputs": [
    {
     "data": {
      "text/html": [
       "<div>\n",
       "<style scoped>\n",
       "    .dataframe tbody tr th:only-of-type {\n",
       "        vertical-align: middle;\n",
       "    }\n",
       "\n",
       "    .dataframe tbody tr th {\n",
       "        vertical-align: top;\n",
       "    }\n",
       "\n",
       "    .dataframe thead th {\n",
       "        text-align: right;\n",
       "    }\n",
       "</style>\n",
       "<table border=\"1\" class=\"dataframe\">\n",
       "  <thead>\n",
       "    <tr style=\"text-align: right;\">\n",
       "      <th></th>\n",
       "      <th>mean.x</th>\n",
       "      <th>std.x</th>\n",
       "      <th>min.x</th>\n",
       "      <th>max.x</th>\n",
       "      <th>mean.y</th>\n",
       "      <th>std.y</th>\n",
       "      <th>min.y</th>\n",
       "      <th>max.y</th>\n",
       "      <th>mean.z</th>\n",
       "      <th>std.z</th>\n",
       "      <th>...</th>\n",
       "      <th>mfft6</th>\n",
       "      <th>mfft7</th>\n",
       "      <th>mfft8</th>\n",
       "      <th>mfft9</th>\n",
       "      <th>mfft10</th>\n",
       "      <th>mfft11</th>\n",
       "      <th>mfft12</th>\n",
       "      <th>mfft13</th>\n",
       "      <th>mfft14</th>\n",
       "      <th>mfft15</th>\n",
       "    </tr>\n",
       "  </thead>\n",
       "  <tbody>\n",
       "    <tr>\n",
       "      <th>PC-1</th>\n",
       "      <td>-0.136359</td>\n",
       "      <td>0.263766</td>\n",
       "      <td>-0.246682</td>\n",
       "      <td>0.156493</td>\n",
       "      <td>0.001959</td>\n",
       "      <td>0.263380</td>\n",
       "      <td>-0.229240</td>\n",
       "      <td>0.228747</td>\n",
       "      <td>-0.107844</td>\n",
       "      <td>0.264141</td>\n",
       "      <td>...</td>\n",
       "      <td>0.003153</td>\n",
       "      <td>-0.007974</td>\n",
       "      <td>0.002378</td>\n",
       "      <td>0.002378</td>\n",
       "      <td>-0.007974</td>\n",
       "      <td>0.003153</td>\n",
       "      <td>-0.003178</td>\n",
       "      <td>-0.005670</td>\n",
       "      <td>-0.010181</td>\n",
       "      <td>0.000304</td>\n",
       "    </tr>\n",
       "    <tr>\n",
       "      <th>PC-2</th>\n",
       "      <td>0.363491</td>\n",
       "      <td>0.030243</td>\n",
       "      <td>0.110489</td>\n",
       "      <td>0.318694</td>\n",
       "      <td>-0.170037</td>\n",
       "      <td>0.020858</td>\n",
       "      <td>-0.076121</td>\n",
       "      <td>-0.032331</td>\n",
       "      <td>0.345393</td>\n",
       "      <td>0.028334</td>\n",
       "      <td>...</td>\n",
       "      <td>0.004062</td>\n",
       "      <td>-0.011712</td>\n",
       "      <td>0.007340</td>\n",
       "      <td>0.007340</td>\n",
       "      <td>-0.011712</td>\n",
       "      <td>0.004062</td>\n",
       "      <td>-0.006412</td>\n",
       "      <td>-0.005937</td>\n",
       "      <td>-0.005946</td>\n",
       "      <td>-0.006917</td>\n",
       "    </tr>\n",
       "    <tr>\n",
       "      <th>PC-3</th>\n",
       "      <td>-0.002180</td>\n",
       "      <td>0.004193</td>\n",
       "      <td>-0.003781</td>\n",
       "      <td>0.003182</td>\n",
       "      <td>-0.010951</td>\n",
       "      <td>-0.000157</td>\n",
       "      <td>-0.004243</td>\n",
       "      <td>-0.007078</td>\n",
       "      <td>-0.003398</td>\n",
       "      <td>0.001163</td>\n",
       "      <td>...</td>\n",
       "      <td>-0.100362</td>\n",
       "      <td>-0.045594</td>\n",
       "      <td>-0.147632</td>\n",
       "      <td>-0.147632</td>\n",
       "      <td>-0.045594</td>\n",
       "      <td>-0.100362</td>\n",
       "      <td>-0.252625</td>\n",
       "      <td>0.159895</td>\n",
       "      <td>0.123708</td>\n",
       "      <td>-0.025976</td>\n",
       "    </tr>\n",
       "    <tr>\n",
       "      <th>PC-4</th>\n",
       "      <td>0.005684</td>\n",
       "      <td>0.004976</td>\n",
       "      <td>-0.003388</td>\n",
       "      <td>0.008882</td>\n",
       "      <td>-0.009411</td>\n",
       "      <td>0.002696</td>\n",
       "      <td>-0.007721</td>\n",
       "      <td>-0.000960</td>\n",
       "      <td>0.002030</td>\n",
       "      <td>0.002685</td>\n",
       "      <td>...</td>\n",
       "      <td>0.177625</td>\n",
       "      <td>0.112214</td>\n",
       "      <td>-0.360929</td>\n",
       "      <td>-0.360929</td>\n",
       "      <td>0.112214</td>\n",
       "      <td>0.177625</td>\n",
       "      <td>0.019899</td>\n",
       "      <td>-0.070611</td>\n",
       "      <td>-0.044244</td>\n",
       "      <td>-0.020250</td>\n",
       "    </tr>\n",
       "    <tr>\n",
       "      <th>PC-5</th>\n",
       "      <td>-0.001646</td>\n",
       "      <td>-0.002037</td>\n",
       "      <td>0.000822</td>\n",
       "      <td>-0.002107</td>\n",
       "      <td>0.011650</td>\n",
       "      <td>0.000629</td>\n",
       "      <td>0.007857</td>\n",
       "      <td>0.011643</td>\n",
       "      <td>0.008990</td>\n",
       "      <td>0.007896</td>\n",
       "      <td>...</td>\n",
       "      <td>0.260141</td>\n",
       "      <td>0.072821</td>\n",
       "      <td>0.118207</td>\n",
       "      <td>0.118207</td>\n",
       "      <td>0.072821</td>\n",
       "      <td>0.260141</td>\n",
       "      <td>0.021352</td>\n",
       "      <td>0.069149</td>\n",
       "      <td>0.303302</td>\n",
       "      <td>-0.111891</td>\n",
       "    </tr>\n",
       "    <tr>\n",
       "      <th>PC-6</th>\n",
       "      <td>0.000952</td>\n",
       "      <td>-0.002741</td>\n",
       "      <td>0.000139</td>\n",
       "      <td>-0.002572</td>\n",
       "      <td>-0.005068</td>\n",
       "      <td>-0.002382</td>\n",
       "      <td>-0.002403</td>\n",
       "      <td>-0.008114</td>\n",
       "      <td>-0.002548</td>\n",
       "      <td>-0.005943</td>\n",
       "      <td>...</td>\n",
       "      <td>0.100350</td>\n",
       "      <td>0.243904</td>\n",
       "      <td>0.111247</td>\n",
       "      <td>0.111247</td>\n",
       "      <td>0.243904</td>\n",
       "      <td>0.100350</td>\n",
       "      <td>-0.248929</td>\n",
       "      <td>-0.058381</td>\n",
       "      <td>-0.122253</td>\n",
       "      <td>0.164250</td>\n",
       "    </tr>\n",
       "    <tr>\n",
       "      <th>PC-7</th>\n",
       "      <td>-0.010999</td>\n",
       "      <td>-0.007903</td>\n",
       "      <td>0.000336</td>\n",
       "      <td>-0.020021</td>\n",
       "      <td>0.012176</td>\n",
       "      <td>-0.008367</td>\n",
       "      <td>0.008716</td>\n",
       "      <td>-0.002402</td>\n",
       "      <td>-0.011336</td>\n",
       "      <td>-0.009842</td>\n",
       "      <td>...</td>\n",
       "      <td>0.197358</td>\n",
       "      <td>-0.268391</td>\n",
       "      <td>0.048900</td>\n",
       "      <td>0.048900</td>\n",
       "      <td>-0.268391</td>\n",
       "      <td>0.197358</td>\n",
       "      <td>-0.178092</td>\n",
       "      <td>-0.058497</td>\n",
       "      <td>-0.140213</td>\n",
       "      <td>-0.131251</td>\n",
       "    </tr>\n",
       "    <tr>\n",
       "      <th>PC-8</th>\n",
       "      <td>0.008131</td>\n",
       "      <td>-0.001980</td>\n",
       "      <td>0.004514</td>\n",
       "      <td>0.002482</td>\n",
       "      <td>0.016569</td>\n",
       "      <td>-0.000055</td>\n",
       "      <td>0.009048</td>\n",
       "      <td>0.010277</td>\n",
       "      <td>0.012415</td>\n",
       "      <td>0.000731</td>\n",
       "      <td>...</td>\n",
       "      <td>0.137383</td>\n",
       "      <td>-0.040600</td>\n",
       "      <td>0.000414</td>\n",
       "      <td>0.000414</td>\n",
       "      <td>-0.040600</td>\n",
       "      <td>0.137383</td>\n",
       "      <td>0.129065</td>\n",
       "      <td>0.279494</td>\n",
       "      <td>-0.090444</td>\n",
       "      <td>0.173687</td>\n",
       "    </tr>\n",
       "    <tr>\n",
       "      <th>PC-9</th>\n",
       "      <td>-0.000975</td>\n",
       "      <td>0.001793</td>\n",
       "      <td>-0.001006</td>\n",
       "      <td>-0.002288</td>\n",
       "      <td>-0.001057</td>\n",
       "      <td>0.002085</td>\n",
       "      <td>-0.000863</td>\n",
       "      <td>-0.000258</td>\n",
       "      <td>-0.001474</td>\n",
       "      <td>0.003954</td>\n",
       "      <td>...</td>\n",
       "      <td>-0.033992</td>\n",
       "      <td>0.175896</td>\n",
       "      <td>0.033621</td>\n",
       "      <td>0.033621</td>\n",
       "      <td>0.175896</td>\n",
       "      <td>-0.033992</td>\n",
       "      <td>0.020826</td>\n",
       "      <td>0.154881</td>\n",
       "      <td>-0.056175</td>\n",
       "      <td>-0.359433</td>\n",
       "    </tr>\n",
       "    <tr>\n",
       "      <th>PC-10</th>\n",
       "      <td>-0.047992</td>\n",
       "      <td>-0.007485</td>\n",
       "      <td>-0.008867</td>\n",
       "      <td>-0.043074</td>\n",
       "      <td>-0.450084</td>\n",
       "      <td>-0.010783</td>\n",
       "      <td>-0.185681</td>\n",
       "      <td>-0.226276</td>\n",
       "      <td>-0.177178</td>\n",
       "      <td>-0.036340</td>\n",
       "      <td>...</td>\n",
       "      <td>0.014567</td>\n",
       "      <td>-0.003956</td>\n",
       "      <td>0.002212</td>\n",
       "      <td>0.002212</td>\n",
       "      <td>-0.003956</td>\n",
       "      <td>0.014567</td>\n",
       "      <td>0.029327</td>\n",
       "      <td>0.009898</td>\n",
       "      <td>0.004561</td>\n",
       "      <td>0.002486</td>\n",
       "    </tr>\n",
       "    <tr>\n",
       "      <th>PC-11</th>\n",
       "      <td>-0.001374</td>\n",
       "      <td>0.004818</td>\n",
       "      <td>-0.006532</td>\n",
       "      <td>0.002354</td>\n",
       "      <td>0.019497</td>\n",
       "      <td>0.003685</td>\n",
       "      <td>-0.010130</td>\n",
       "      <td>-0.000608</td>\n",
       "      <td>0.009767</td>\n",
       "      <td>-0.001898</td>\n",
       "      <td>...</td>\n",
       "      <td>0.026055</td>\n",
       "      <td>0.042571</td>\n",
       "      <td>-0.016502</td>\n",
       "      <td>-0.016502</td>\n",
       "      <td>0.042571</td>\n",
       "      <td>0.026055</td>\n",
       "      <td>0.024643</td>\n",
       "      <td>0.130972</td>\n",
       "      <td>-0.035246</td>\n",
       "      <td>-0.001743</td>\n",
       "    </tr>\n",
       "  </tbody>\n",
       "</table>\n",
       "<p>11 rows × 83 columns</p>\n",
       "</div>"
      ],
      "text/plain": [
       "         mean.x     std.x     min.x     max.x    mean.y     std.y     min.y  \\\n",
       "PC-1  -0.136359  0.263766 -0.246682  0.156493  0.001959  0.263380 -0.229240   \n",
       "PC-2   0.363491  0.030243  0.110489  0.318694 -0.170037  0.020858 -0.076121   \n",
       "PC-3  -0.002180  0.004193 -0.003781  0.003182 -0.010951 -0.000157 -0.004243   \n",
       "PC-4   0.005684  0.004976 -0.003388  0.008882 -0.009411  0.002696 -0.007721   \n",
       "PC-5  -0.001646 -0.002037  0.000822 -0.002107  0.011650  0.000629  0.007857   \n",
       "PC-6   0.000952 -0.002741  0.000139 -0.002572 -0.005068 -0.002382 -0.002403   \n",
       "PC-7  -0.010999 -0.007903  0.000336 -0.020021  0.012176 -0.008367  0.008716   \n",
       "PC-8   0.008131 -0.001980  0.004514  0.002482  0.016569 -0.000055  0.009048   \n",
       "PC-9  -0.000975  0.001793 -0.001006 -0.002288 -0.001057  0.002085 -0.000863   \n",
       "PC-10 -0.047992 -0.007485 -0.008867 -0.043074 -0.450084 -0.010783 -0.185681   \n",
       "PC-11 -0.001374  0.004818 -0.006532  0.002354  0.019497  0.003685 -0.010130   \n",
       "\n",
       "          max.y    mean.z     std.z    ...        mfft6     mfft7     mfft8  \\\n",
       "PC-1   0.228747 -0.107844  0.264141    ...     0.003153 -0.007974  0.002378   \n",
       "PC-2  -0.032331  0.345393  0.028334    ...     0.004062 -0.011712  0.007340   \n",
       "PC-3  -0.007078 -0.003398  0.001163    ...    -0.100362 -0.045594 -0.147632   \n",
       "PC-4  -0.000960  0.002030  0.002685    ...     0.177625  0.112214 -0.360929   \n",
       "PC-5   0.011643  0.008990  0.007896    ...     0.260141  0.072821  0.118207   \n",
       "PC-6  -0.008114 -0.002548 -0.005943    ...     0.100350  0.243904  0.111247   \n",
       "PC-7  -0.002402 -0.011336 -0.009842    ...     0.197358 -0.268391  0.048900   \n",
       "PC-8   0.010277  0.012415  0.000731    ...     0.137383 -0.040600  0.000414   \n",
       "PC-9  -0.000258 -0.001474  0.003954    ...    -0.033992  0.175896  0.033621   \n",
       "PC-10 -0.226276 -0.177178 -0.036340    ...     0.014567 -0.003956  0.002212   \n",
       "PC-11 -0.000608  0.009767 -0.001898    ...     0.026055  0.042571 -0.016502   \n",
       "\n",
       "          mfft9    mfft10    mfft11    mfft12    mfft13    mfft14    mfft15  \n",
       "PC-1   0.002378 -0.007974  0.003153 -0.003178 -0.005670 -0.010181  0.000304  \n",
       "PC-2   0.007340 -0.011712  0.004062 -0.006412 -0.005937 -0.005946 -0.006917  \n",
       "PC-3  -0.147632 -0.045594 -0.100362 -0.252625  0.159895  0.123708 -0.025976  \n",
       "PC-4  -0.360929  0.112214  0.177625  0.019899 -0.070611 -0.044244 -0.020250  \n",
       "PC-5   0.118207  0.072821  0.260141  0.021352  0.069149  0.303302 -0.111891  \n",
       "PC-6   0.111247  0.243904  0.100350 -0.248929 -0.058381 -0.122253  0.164250  \n",
       "PC-7   0.048900 -0.268391  0.197358 -0.178092 -0.058497 -0.140213 -0.131251  \n",
       "PC-8   0.000414 -0.040600  0.137383  0.129065  0.279494 -0.090444  0.173687  \n",
       "PC-9   0.033621  0.175896 -0.033992  0.020826  0.154881 -0.056175 -0.359433  \n",
       "PC-10  0.002212 -0.003956  0.014567  0.029327  0.009898  0.004561  0.002486  \n",
       "PC-11 -0.016502  0.042571  0.026055  0.024643  0.130972 -0.035246 -0.001743  \n",
       "\n",
       "[11 rows x 83 columns]"
      ]
     },
     "execution_count": 28,
     "metadata": {},
     "output_type": "execute_result"
    }
   ],
   "source": [
    "# Splitting the dataset into the Training set and Test set\n",
    "X_train, X_test, y_train, y_test = train_test_split(X, y, test_size=0.2) \n",
    "\n",
    "pca = PCA(n_components = 11)  \n",
    "X_train = pca.fit_transform(X_train)  \n",
    "X_test = pca.transform(X_test)  \n",
    "\n",
    "explained_variance = pca.explained_variance_ratio_  \n",
    "labels = [\"PC-\" + str(x) for x in range(1,12)]\n",
    "pc_df = pd.DataFrame(pca.components_,columns=used_cols[:-1],index = labels)\n",
    "pc_df"
   ]
  },
  {
   "cell_type": "markdown",
   "metadata": {},
   "source": [
    "## Best RF, ADA Boost(Optimize # Estimators)"
   ]
  },
  {
   "cell_type": "code",
   "execution_count": 7,
   "metadata": {},
   "outputs": [],
   "source": [
    "# Optimize number of estimators\n",
    "# Set max tree depth to 9, found by optimization\n",
    "num_estimators = []\n",
    "accs = []\n",
    "dummy_labels = ['sit/lie', 'stand and move', 'walking', 'running',\n",
    "               'bicycling']\n",
    "for n in range(2,10):\n",
    "    res = run_kfold_rf_adaboost(X.values, y.values, 10, 9, n, dummy_labels)\n",
    "    num_estimators.append(n)\n",
    "    accs.append(res[0])\n",
    "    #print('# Estimators: ' + str(n) + \" Acc: \" + str(res[0]))"
   ]
  },
  {
   "cell_type": "code",
   "execution_count": 8,
   "metadata": {},
   "outputs": [
    {
     "data": {
      "image/png": "[encoded data removed]",
      "text/plain": [
       "<Figure size 432x288 with 1 Axes>"
      ]
     },
     "metadata": {
      "needs_background": "light"
     },
     "output_type": "display_data"
    }
   ],
   "source": [
    "plt.plot(num_estimators,accs)\n",
    "plt.title(\"KFold Accuracy vs RF AdaBoosting # Estimators\")\n",
    "plt.ylabel('10 KFold Accuracy')\n",
    "plt.xlabel(\"# Estimators\")\n",
    "plt.show()"
   ]
  },
  {
   "cell_type": "markdown",
   "metadata": {},
   "source": [
    "## Best RF for PCA, ADA Boost ( Optimize # Estimators)"
   ]
  },
  {
   "cell_type": "code",
   "execution_count": 94,
   "metadata": {},
   "outputs": [],
   "source": [
    "# Optimize number of estimators\n",
    "# Set max tree depth to 7, found by optimization\n",
    "num_estimators = []\n",
    "accs = []\n",
    "dummy_labels = ['sit/lie', 'stand and move', 'walking', 'running',\n",
    "               'bicycling']\n",
    "for n in range(5,50,5):\n",
    "    res = run_kfold_pca_adaboost(X.values, y.values, 10, 7, n, dummy_labels)\n",
    "    num_estimators.append(n)\n",
    "    accs.append(res[0])\n",
    "    #print('# Estimators: ' + str(n) + \" Acc: \" + str(res[0]))"
   ]
  },
  {
   "cell_type": "code",
   "execution_count": 95,
   "metadata": {},
   "outputs": [
    {
     "data": {
      "image/png": "[encoded data removed]",
      "text/plain": [
       "<Figure size 432x288 with 1 Axes>"
      ]
     },
     "metadata": {
      "needs_background": "light"
     },
     "output_type": "display_data"
    }
   ],
   "source": [
    "plt.plot(num_estimators,accs)\n",
    "plt.title(\"KFold Accuracy vs RF AdaBoosting # Estimators(PC = 3)\")\n",
    "plt.ylabel('10 KFold Accuracy')\n",
    "plt.xlabel(\"# Estimators\")\n",
    "plt.show()"
   ]
  },
  {
   "cell_type": "markdown",
   "metadata": {},
   "source": [
    "## Decision Tree PCA Input"
   ]
  },
  {
   "cell_type": "code",
   "execution_count": 43,
   "metadata": {},
   "outputs": [
    {
     "data": {
      "text/plain": [
       "0.8978753498034471"
      ]
     },
     "execution_count": 43,
     "metadata": {},
     "output_type": "execute_result"
    }
   ],
   "source": [
    "from sklearn.tree import DecisionTreeClassifier\n",
    "\n",
    "res = run_kfold_dtree(X.values, y.values, 10, dummy_labels, True, 'gini')\n",
    "\n",
    "sum_cnf_matrix = np.sum(res[1], axis = 0)\n",
    "np.savetxt(\"thigh_upfinal_pcadtree_cnf_mat.txt\", sum_cnf_matrix,\n",
    "                   fmt = '%1.2f')\n",
    "res[0]"
   ]
  },
  {
   "cell_type": "markdown",
   "metadata": {},
   "source": [
    "## Decision Tree Original Input"
   ]
  },
  {
   "cell_type": "code",
   "execution_count": 44,
   "metadata": {},
   "outputs": [
    {
     "data": {
      "text/plain": [
       "0.9036075681857736"
      ]
     },
     "execution_count": 44,
     "metadata": {},
     "output_type": "execute_result"
    }
   ],
   "source": [
    "res = run_kfold_dtree(X.values, y.values, 10, dummy_labels, False, 'gini')\n",
    "sum_cnf_matrix = np.sum(res[1], axis = 0)\n",
    "np.savetxt(\"thigh_upfinal_dtree_cnf_mat.txt\", sum_cnf_matrix,\n",
    "                   fmt = '%1.2f')\n",
    "res[0]"
   ]
  },
  {
   "cell_type": "markdown",
   "metadata": {},
   "source": [
    "## Decision Tree PCA Input, Adaboost( Optimize # Estimators)¶"
   ]
  },
  {
   "cell_type": "code",
   "execution_count": null,
   "metadata": {},
   "outputs": [],
   "source": [
    "# Optimize number of estimators\n",
    "# Set max tree depth to 7, found by optimization\n",
    "num_estimators = []\n",
    "accs = []\n",
    "dummy_labels = ['sit/lie', 'stand and move', 'walking', 'running',\n",
    "               'bicycling']\n",
    "for n in range(5,65,5):\n",
    "    res = run_kfold_dtree_adaboost(X.values, y.values, 10, dummy_labels,\n",
    "                                   True, 'gini', n)\n",
    "    num_estimators.append(n)\n",
    "    accs.append(res[0])\n",
    "    #print('# Estimators: ' + str(n) + \" Acc: \" + str(res[0]))"
   ]
  },
  {
   "cell_type": "code",
   "execution_count": null,
   "metadata": {
    "scrolled": true
   },
   "outputs": [],
   "source": [
    "plt.plot(num_estimators,accs)\n",
    "plt.title(\"KFold Accuracy vs DTree AdaBoosting # Estimators(PC = 3)\")\n",
    "plt.ylabel('10 KFold Accuracy')\n",
    "plt.xlabel(\"# Estimators\")\n",
    "plt.show()"
   ]
  },
  {
   "cell_type": "markdown",
   "metadata": {},
   "source": [
    "## Best Decision Tree PCA Input"
   ]
  },
  {
   "cell_type": "code",
   "execution_count": 102,
   "metadata": {},
   "outputs": [],
   "source": [
    "dummy_labels = ['sit/lie', 'stand and move', 'walking', 'running',\n",
    "               'bicycling']\n",
    "res = run_kfold_dtree_adaboost(X.values, y.values, 10, dummy_labels,\n",
    "                                   True, 'gini', 25)\n",
    "\n",
    "sum_cnf_matrix = np.sum(res[1], axis = 0)\n",
    "np.savetxt(\"thigh_upfinal_pcadtreeboosted_cnf_mat.txt\", sum_cnf_matrix,\n",
    "                   fmt = '%1.2f')"
   ]
  }
 ],
 "metadata": {
  "kernelspec": {
   "display_name": "Python [conda root]",
   "language": "python",
   "name": "conda-root-py"
  },
  "language_info": {
   "codemirror_mode": {
    "name": "ipython",
    "version": 3
   },
   "file_extension": ".py",
   "mimetype": "text/x-python",
   "name": "python",
   "nbconvert_exporter": "python",
   "pygments_lexer": "ipython3",
   "version": "3.5.6"
  }
 },
 "nbformat": 4,
 "nbformat_minor": 2
}
